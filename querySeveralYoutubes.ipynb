{
 "cells": [
  {
   "cell_type": "code",
   "execution_count": 2,
   "metadata": {},
   "outputs": [],
   "source": [
    "import logging\n",
    "import sys\n",
    "\n",
    "logging.basicConfig(stream=sys.stdout, level=logging.INFO)\n",
    "logging.getLogger().addHandler(logging.StreamHandler(stream=sys.stdout))"
   ]
  },
  {
   "cell_type": "code",
   "execution_count": 3,
   "metadata": {},
   "outputs": [],
   "source": [
    "import nest_asyncio\n",
    "nest_asyncio.apply()"
   ]
  },
  {
   "cell_type": "code",
   "execution_count": 4,
   "metadata": {},
   "outputs": [],
   "source": [
    "import os\n",
    "os.environ['NUMEXPR_MAX_THREADS'] = '4'\n",
    "os.environ['NUMEXPR_NUM_THREADS'] = '2'\n",
    "import numexpr as ne "
   ]
  },
  {
   "cell_type": "code",
   "execution_count": null,
   "metadata": {},
   "outputs": [],
   "source": [
    "import os\n",
    "os.environ[\"OPENAI_API_KEY\"] = \"sk-xxx\"\n",
    "import openai\n",
    "openai.api_key = \"sk-xxx\""
   ]
  },
  {
   "cell_type": "code",
   "execution_count": null,
   "metadata": {},
   "outputs": [],
   "source": [
    "from llama_hub.youtube_transcript import YoutubeTranscriptReader\n",
    "\n",
    "loader=YoutubeTranscriptReader()\n",
    "\n",
    "youtube_documents = loader.load_data(ytlinks=['https://www.youtube.com/watch?v=jITPOcBQQW8', 'https://www.youtube.com/watch?v=xFfnJhZeL_Y', 'https://www.youtube.com/watch?v=g_LNu6Aaxvk'])\n",
    "print(youtube_documents)"
   ]
  },
  {
   "cell_type": "code",
   "execution_count": 7,
   "metadata": {},
   "outputs": [],
   "source": [
    "from llama_index import VectorStoreIndex\n",
    "\n",
    "vector_indices = {}\n",
    "vector_query_engines = {}\n",
    "\n",
    "breeds = [\"Savanah\", \"Ragdol\", \"Maine Coon\"]\n",
    "\n",
    "for breed, youtube in zip(breeds, youtube_documents):\n",
    "    vector_index = VectorStoreIndex.from_documents([youtube])\n",
    "    query_engine = vector_index.as_query_engine(similarity_top_k=3)\n",
    "    vector_indices[breed] = vector_index\n",
    "    vector_query_engines[breed] = query_engine"
   ]
  },
  {
   "cell_type": "code",
   "execution_count": 8,
   "metadata": {},
   "outputs": [],
   "source": [
    "from llama_index.query_engine import SubQuestionQueryEngine\n",
    "from llama_index.tools import QueryEngineTool, ToolMetadata\n",
    "\n",
    "\n",
    "query_engine_tools = []\n",
    "for breed in breeds:\n",
    "    query_engine = vector_query_engines[breed]\n",
    "\n",
    "    query_engine_tool = QueryEngineTool(\n",
    "        query_engine=query_engine,\n",
    "        metadata=ToolMetadata(\n",
    "            name=breed,\n",
    "            description=f\"Provides information about the cat breed {breed}\"\n",
    "        ),\n",
    "    )\n",
    "    query_engine_tools.append(query_engine_tool)\n",
    "\n",
    "subquestion_engine = SubQuestionQueryEngine.from_defaults(query_engine_tools=query_engine_tools)    "
   ]
  },
  {
   "cell_type": "code",
   "execution_count": 9,
   "metadata": {},
   "outputs": [
    {
     "name": "stdout",
     "output_type": "stream",
     "text": [
      "Generated 6 sub questions.\n",
      "\u001b[36;1m\u001b[1;3m[Ragdol] Q: What are the characteristics of Ragdoll cats?\n",
      "\u001b[0m\u001b[33;1m\u001b[1;3m[Maine Coon] Q: What are the characteristics of Maine Coon cats?\n",
      "\u001b[0m\u001b[38;5;200m\u001b[1;3m[Ragdol] Q: What is the size of Ragdoll cats?\n",
      "\u001b[0m\u001b[32;1m\u001b[1;3m[Maine Coon] Q: What is the size of Maine Coon cats?\n",
      "\u001b[0m\u001b[31;1m\u001b[1;3m[Ragdol] Q: What is the temperament of Ragdoll cats?\n",
      "\u001b[0m\u001b[36;1m\u001b[1;3m[Maine Coon] Q: What is the temperament of Maine Coon cats?\n",
      "\u001b[0mINFO:openai:message='OpenAI API response' path=https://api.openai.com/v1/embeddings processing_ms=33 request_id=d35ce30758c21ce2ceb50326bdc6d6b0 response_code=200\n",
      "message='OpenAI API response' path=https://api.openai.com/v1/embeddings processing_ms=33 request_id=d35ce30758c21ce2ceb50326bdc6d6b0 response_code=200\n",
      "INFO:openai:message='OpenAI API response' path=https://api.openai.com/v1/embeddings processing_ms=53 request_id=5c49044334c0db4640457afe390e0fbe response_code=200\n",
      "message='OpenAI API response' path=https://api.openai.com/v1/embeddings processing_ms=53 request_id=5c49044334c0db4640457afe390e0fbe response_code=200\n",
      "INFO:openai:message='OpenAI API response' path=https://api.openai.com/v1/embeddings processing_ms=58 request_id=9dcb54b1804fc1b81bbdea4767b22b0f response_code=200\n",
      "message='OpenAI API response' path=https://api.openai.com/v1/embeddings processing_ms=58 request_id=9dcb54b1804fc1b81bbdea4767b22b0f response_code=200\n",
      "INFO:openai:message='OpenAI API response' path=https://api.openai.com/v1/embeddings processing_ms=85 request_id=c38e6308a697c911caaa78e722eb4ab3 response_code=200\n",
      "message='OpenAI API response' path=https://api.openai.com/v1/embeddings processing_ms=85 request_id=c38e6308a697c911caaa78e722eb4ab3 response_code=200\n",
      "INFO:openai:message='OpenAI API response' path=https://api.openai.com/v1/embeddings processing_ms=220 request_id=773ccb70a07473ada153fe73459891ff response_code=200\n",
      "message='OpenAI API response' path=https://api.openai.com/v1/embeddings processing_ms=220 request_id=773ccb70a07473ada153fe73459891ff response_code=200\n",
      "INFO:openai:message='OpenAI API response' path=https://api.openai.com/v1/embeddings processing_ms=35 request_id=f0968d7fa3a9160d90070c114d608a4c response_code=200\n",
      "message='OpenAI API response' path=https://api.openai.com/v1/embeddings processing_ms=35 request_id=f0968d7fa3a9160d90070c114d608a4c response_code=200\n",
      "INFO:openai:message='OpenAI API response' path=https://api.openai.com/v1/chat/completions processing_ms=745 request_id=85b97df246dce84510fe87c3790387f6 response_code=200\n",
      "message='OpenAI API response' path=https://api.openai.com/v1/chat/completions processing_ms=745 request_id=85b97df246dce84510fe87c3790387f6 response_code=200\n",
      "\u001b[38;5;200m\u001b[1;3m[Ragdol] A: Ragdoll cats are known for their large size.\n",
      "\u001b[0mINFO:openai:message='OpenAI API response' path=https://api.openai.com/v1/chat/completions processing_ms=4362 request_id=040367ec6b8af967eab719f6fdca8498 response_code=200\n",
      "message='OpenAI API response' path=https://api.openai.com/v1/chat/completions processing_ms=4362 request_id=040367ec6b8af967eab719f6fdca8498 response_code=200\n",
      "\u001b[31;1m\u001b[1;3m[Ragdol] A: Ragdoll cats have a friendly and gentle temperament. They are known for being docile, easy-going, and tolerant with people and other animals. They are not prone to aggression and form strong bonds with their family members quickly. Ragdolls are also known to be quite vocal and talkative, using their meows to communicate their needs and desires. Overall, they make great pets for families, including those with children and other pets.\n",
      "\u001b[0mINFO:openai:message='OpenAI API response' path=https://api.openai.com/v1/chat/completions processing_ms=4745 request_id=d543a02ec4bd822211bc8e7a476d1e5a response_code=200\n",
      "message='OpenAI API response' path=https://api.openai.com/v1/chat/completions processing_ms=4745 request_id=d543a02ec4bd822211bc8e7a476d1e5a response_code=200\n",
      "\u001b[32;1m\u001b[1;3m[Maine Coon] A: Maine Coon cats are described as moderate to large cats. While not all Maine Coon cats are large, the breed is known for its big frame. Males can weigh up to 25 pounds or even more, with an average weight of approximately 18 pounds. The smallest Maine Coons can weigh just 12 pounds. Females, on the other hand, weigh from ten to fourteen pounds. Overall, Maine Coons are considered one of the largest cat breeds, if not the largest.\n",
      "\u001b[0mINFO:openai:message='OpenAI API response' path=https://api.openai.com/v1/chat/completions processing_ms=5606 request_id=d52561c9e6bbabeebf301adff9cc33c7 response_code=200\n",
      "message='OpenAI API response' path=https://api.openai.com/v1/chat/completions processing_ms=5606 request_id=d52561c9e6bbabeebf301adff9cc33c7 response_code=200\n",
      "\u001b[36;1m\u001b[1;3m[Maine Coon] A: Maine Coon cats are described as mellow and affectionate. They are often referred to as gentle giants and are known to be perfect family pets. While they may not be typical lap cats, they are still very loving and enjoy cuddling. Maine Coons are also playful, even into adulthood, and have a reputation for being dog-like in their behavior. They are known to be loyal to their family members and can be comforting and attentive when someone is not feeling well or upset. Overall, Maine Coon cats have a calm and devoted temperament.\n",
      "\u001b[0mINFO:openai:message='OpenAI API response' path=https://api.openai.com/v1/chat/completions processing_ms=9084 request_id=5a027404380ab43dc95932bbe68c7d1f response_code=200\n",
      "message='OpenAI API response' path=https://api.openai.com/v1/chat/completions processing_ms=9084 request_id=5a027404380ab43dc95932bbe68c7d1f response_code=200\n",
      "\u001b[36;1m\u001b[1;3m[Ragdol] A: Ragdoll cats are known for their intelligence, affectionate nature, and ability to articulate their needs. They are intuitive when it comes to showing affection and companionship. Ragdolls are also trainable and can be taught to play fetch, chase a toy, or even ring a bell. They are considered one of the most affectionate cat breeds and love to cuddle and be close to their humans. Ragdolls are often described as \"floppy cats\" because they have a genetic trait that makes them go limp when cradled in your arms. They are generally friendly, gentle, and tolerant with people and other animals, making them great pets for families with children and other pets. Ragdolls can be quite vocal and talkative, using their meows to communicate their needs or desires. However, they are not prone to aggression and are generally well-behaved. It's important to note that every cat is an individual, so the characteristics may vary slightly from cat to cat.\n",
      "\u001b[0mINFO:openai:message='OpenAI API response' path=https://api.openai.com/v1/chat/completions processing_ms=10281 request_id=6f262855c10a7a7646746e54dfcabb19 response_code=200\n",
      "message='OpenAI API response' path=https://api.openai.com/v1/chat/completions processing_ms=10281 request_id=6f262855c10a7a7646746e54dfcabb19 response_code=200\n",
      "\u001b[33;1m\u001b[1;3m[Maine Coon] A: Maine Coon cats are known for their large size, with males weighing up to 25 pounds and females weighing between ten to fourteen pounds. They have a long, double-layered, and thick coat that is shorter on the shoulders and longer on the stomach. Maine Coons also have a big, bushy tail that is almost as long as their bodies. They have tufts of fur between their paw pads and out of their ears, and their ears may have lynx tips. Maine Coons have big muscles and solid bones, making them sturdy and strong. They are slow to mature, reaching maturity between 3 and 4 years of age. Maine Coons come in various colors and color combinations, and their big, oval eyes are expressive. In terms of personality, Maine Coons are described as mellow, affectionate, and playful. They are known as gentle giants and are considered perfect family pets. Maine Coons are also playful even when mature and have traits that resemble dogs, such as playing fetch. They are known to be good with other pets and are not aggressive or territorial.\n",
      "\u001b[0m"
     ]
    }
   ],
   "source": [
    "response = subquestion_engine.query(\"Tell me the difference between Ragdoll and Maine Coon cat.\")"
   ]
  },
  {
   "cell_type": "code",
   "execution_count": 10,
   "metadata": {},
   "outputs": [
    {
     "name": "stdout",
     "output_type": "stream",
     "text": [
      "Ragdoll cats are known for their large size, intelligence, affectionate nature, and ability to articulate their needs. They are intuitive when it comes to showing affection and companionship. Ragdolls are also trainable and can be taught to play fetch, chase a toy, or even ring a bell. They are considered one of the most affectionate cat breeds and love to cuddle and be close to their humans. Ragdolls are often described as \"floppy cats\" because they have a genetic trait that makes them go limp when cradled in your arms. They are generally friendly, gentle, and tolerant with people and other animals, making them great pets for families with children and other pets. Ragdolls can be quite vocal and talkative, using their meows to communicate their needs or desires. However, they are not prone to aggression and are generally well-behaved.\n",
      "\n",
      "On the other hand, Maine Coon cats are known for their large size, with males weighing up to 25 pounds and females weighing between ten to fourteen pounds. They have a long, double-layered, and thick coat that is shorter on the shoulders and longer on the stomach. Maine Coons also have a big, bushy tail that is almost as long as their bodies. They have tufts of fur between their paw pads and out of their ears, and their ears may have lynx tips. Maine Coons have big muscles and solid bones, making them sturdy and strong. In terms of personality, Maine Coons are described as mellow, affectionate, and playful. They are known as gentle giants and are considered perfect family pets. Maine Coons are also playful even when mature and have traits that resemble dogs, such as playing fetch. They are known to be good with other pets and are not aggressive or territorial.\n",
      "\n",
      "In summary, while both Ragdoll and Maine Coon cats are large in size and have affectionate temperaments, Ragdolls are known for their intelligence and ability to articulate their needs, while Maine Coons are known for their mellow and playful nature, as well as their resemblance to dogs in terms of behavior.\n"
     ]
    }
   ],
   "source": [
    "print(response)"
   ]
  }
 ],
 "metadata": {
  "kernelspec": {
   "display_name": "myenv",
   "language": "python",
   "name": "python3"
  },
  "language_info": {
   "codemirror_mode": {
    "name": "ipython",
    "version": 3
   },
   "file_extension": ".py",
   "mimetype": "text/x-python",
   "name": "python",
   "nbconvert_exporter": "python",
   "pygments_lexer": "ipython3",
   "version": "3.9.6"
  },
  "orig_nbformat": 4
 },
 "nbformat": 4,
 "nbformat_minor": 2
}
