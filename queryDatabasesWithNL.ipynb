{
 "cells": [
  {
   "cell_type": "code",
   "execution_count": 2,
   "metadata": {},
   "outputs": [],
   "source": [
    "import logging\n",
    "import sys\n",
    "import os\n",
    "\n",
    "logging.basicConfig(stream=sys.stdout, level=logging.INFO)\n",
    "logging.getLogger().addHandler(logging.StreamHandler(stream=sys.stdout))"
   ]
  },
  {
   "cell_type": "code",
   "execution_count": 3,
   "metadata": {},
   "outputs": [],
   "source": [
    "import os\n",
    "os.environ['NUMEXPR_MAX_THREADS'] = '4'\n",
    "os.environ['NUMEXPR_NUM_THREADS'] = '2'\n",
    "import numexpr as ne"
   ]
  },
  {
   "cell_type": "code",
   "execution_count": null,
   "metadata": {},
   "outputs": [],
   "source": [
    "import os\n",
    "os.environ[\"OPENAI_API_KEY\"] = \"sk-xxx\"\n",
    "import openai\n",
    "openai.api_key = \"sk-xxx\""
   ]
  },
  {
   "cell_type": "code",
   "execution_count": 4,
   "metadata": {},
   "outputs": [],
   "source": [
    "from sqlalchemy import create_engine, Column, Table, String, MetaData\n",
    "\n",
    "\n",
    "metadata_obj = MetaData()\n",
    "engine = create_engine('sqlite:///databases/cats.db', future=True)\n",
    "\n",
    "cat_breeds_table = Table(\n",
    "    \"cat_breeds\",\n",
    "    metadata_obj,\n",
    "    Column(\"name\", String(16), primary_key=True),\n",
    "    Column(\"origin\", String(16), nullable=False),\n",
    "    Column(\"temperament\", String(16), nullable=False),\n",
    "    Column(\"size\", String(16), nullable=False),\n",
    "    Column(\"social_behavior\", String(16), nullable=False),\n",
    ")\n",
    "\n",
    "metadata_obj.create_all(engine)"
   ]
  },
  {
   "cell_type": "code",
   "execution_count": 8,
   "metadata": {},
   "outputs": [],
   "source": [
    "from sqlalchemy import insert\n",
    "\n",
    "breeds_data = [\n",
    "    {\n",
    "        'name': 'Savannah',\n",
    "        'origin': 'USA',\n",
    "        'temperament': 'high energy',\n",
    "        'size': 'Large',\n",
    "        'social_behavior': 'sociable'\n",
    "    },\n",
    "    {\n",
    "        'name': 'Ragdoll',\n",
    "        'origin': 'USA',\n",
    "        'temperament': 'gentle',\n",
    "        'size': 'Large',\n",
    "        'social_behavior': 'sociable'\n",
    "    },\n",
    "    {\n",
    "        'name': 'Maine Coon',\n",
    "        'origin': 'USA (Maine)',\n",
    "        'temperament': 'friendly',\n",
    "        'size': 'Very Large',\n",
    "        'social_behavior': 'sociable'\n",
    "    }\n",
    "]\n",
    "for breed in breeds_data:\n",
    "    stmt = insert(cat_breeds_table).values(**breed)\n",
    "    with engine.connect() as connection:\n",
    "        cursor = connection.execute(stmt)\n",
    "        connection.commit()"
   ]
  },
  {
   "cell_type": "code",
   "execution_count": 5,
   "metadata": {},
   "outputs": [
    {
     "name": "stdout",
     "output_type": "stream",
     "text": [
      "[('Savannah', 'USA', 'high energy', 'Large', 'sociable'), ('Ragdoll', 'USA', 'gentle', 'Large', 'sociable'), ('Maine Coon', 'USA (Maine)', 'friendly', 'Very Large', 'sociable')]\n"
     ]
    }
   ],
   "source": [
    "with engine.connect() as connection:\n",
    "    result = connection.exec_driver_sql(\"SELECT * FROM cat_breeds\")\n",
    "    print(result.fetchall())"
   ]
  },
  {
   "cell_type": "code",
   "execution_count": 6,
   "metadata": {},
   "outputs": [],
   "source": [
    "from llama_index import SQLDatabase\n",
    "sql_database = SQLDatabase(engine, include_tables=[\"cat_breeds\"])"
   ]
  },
  {
   "cell_type": "code",
   "execution_count": 7,
   "metadata": {},
   "outputs": [],
   "source": [
    "from llama_index import ServiceContext\n",
    "from llama_index.llms import OpenAI\n",
    "llm = OpenAI(model=\"gpt-4\", temperature=0, verbose=True)\n",
    "service_context = ServiceContext.from_defaults(llm=llm)\n"
   ]
  },
  {
   "cell_type": "code",
   "execution_count": 39,
   "metadata": {},
   "outputs": [],
   "source": [
    "from llama_index.indices.struct_store import NLSQLTableQueryEngine\n",
    "query_engine = NLSQLTableQueryEngine(\n",
    "    sql_database,\n",
    "    context_query_kwargs={\"cat_breeds\": (\n",
    "        \"The only columns available are: name,origin,temperament,size,social_behavior. Do not use other columns and foreign keys. \\n\"\n",
    "        \"Do not attempt to run a query if the column is not among available columns.\\n\"\n",
    "        \"Do not use unexistant colums in a WHERE part of the query. \\n\"\n",
    "    )}\n",
    ")"
   ]
  },
  {
   "cell_type": "code",
   "execution_count": 37,
   "metadata": {},
   "outputs": [],
   "source": [
    "openai.log = \"debug\""
   ]
  },
  {
   "cell_type": "code",
   "execution_count": 43,
   "metadata": {},
   "outputs": [
    {
     "name": "stdout",
     "output_type": "stream",
     "text": [
      "INFO:llama_index.indices.struct_store.sql_query:> Table desc str: Table 'cat_breeds' has columns: name (VARCHAR(16)), origin (VARCHAR(16)), temperament (VARCHAR(16)), size (VARCHAR(16)), social_behavior (VARCHAR(16)), and foreign keys: . The table description is: The only columns available are: name,origin,temperament,size,social_behavior. Do not use other columns and foreign keys. \n",
      "Do not attempt to run a query if the column is not among available columns.\n",
      "Do not use unexistant colums in a WHERE part of the query. \n",
      "\n",
      "> Table desc str: Table 'cat_breeds' has columns: name (VARCHAR(16)), origin (VARCHAR(16)), temperament (VARCHAR(16)), size (VARCHAR(16)), social_behavior (VARCHAR(16)), and foreign keys: . The table description is: The only columns available are: name,origin,temperament,size,social_behavior. Do not use other columns and foreign keys. \n",
      "Do not attempt to run a query if the column is not among available columns.\n",
      "Do not use unexistant colums in a WHERE part of the query. \n",
      "\n"
     ]
    },
    {
     "name": "stderr",
     "output_type": "stream",
     "text": [
      "message='Request to OpenAI API' method=post path=https://api.openai.com/v1/chat/completions\n",
      "api_version=None data='{\"messages\": [{\"role\": \"user\", \"content\": \"Given an input question, first create a syntactically correct sqlite query to run, then look at the results of the query and return the answer. You can order the results by a relevant column to return the most interesting examples in the database.\\\\nNever query for all the columns from a specific table, only ask for a few relevant columns given the question.\\\\nPay attention to use only the column names that you can see in the schema description. Be careful to not query for columns that do not exist. Pay attention to which column is in which table. Also, qualify column names with the table name when needed.\\\\nUse the following format:\\\\nQuestion: Question here\\\\nSQLQuery: SQL Query to run\\\\nSQLResult: Result of the SQLQuery\\\\nAnswer: Final answer here\\\\nOnly use the tables listed below.\\\\nTable \\'cat_breeds\\' has columns: name (VARCHAR(16)), origin (VARCHAR(16)), temperament (VARCHAR(16)), size (VARCHAR(16)), social_behavior (VARCHAR(16)), and foreign keys: . The table description is: The only columns available are: name,origin,temperament,size,social_behavior. Do not use other columns and foreign keys. \\\\nDo not attempt to run a query if the column is not among available columns.\\\\nDo not use unexistant colums in a WHERE part of the query. \\\\n\\\\nQuestion: What kind of a temperament does a Ragdoll cat have?\\\\nSQLQuery: \"}], \"stream\": false, \"model\": \"gpt-3.5-turbo\", \"temperature\": 0.1, \"max_tokens\": null}' message='Post details'\n",
      "message='OpenAI API response' path=https://api.openai.com/v1/chat/completions processing_ms=2358 request_id=5eae84607f034e235a0527c13fb49491 response_code=200\n",
      "body='{\\n  \"id\": \"chatcmpl-7yfj7aqh4L9S6z31IhCQN6PDye6Dt\",\\n  \"object\": \"chat.completion\",\\n  \"created\": 1694694433,\\n  \"model\": \"gpt-3.5-turbo-0613\",\\n  \"choices\": [\\n    {\\n      \"index\": 0,\\n      \"message\": {\\n        \"role\": \"assistant\",\\n        \"content\": \"SELECT temperament\\\\nFROM cat_breeds\\\\nWHERE name = \\'Ragdoll\\'\\\\nSQLResult: The result of the query would depend on the data in the database.\\\\nAnswer: The temperament of a Ragdoll cat is [temperament].\"\\n      },\\n      \"finish_reason\": \"stop\"\\n    }\\n  ],\\n  \"usage\": {\\n    \"prompt_tokens\": 299,\\n    \"completion_tokens\": 49,\\n    \"total_tokens\": 348\\n  }\\n}\\n' headers='{\\'Date\\': \\'Thu, 14 Sep 2023 12:27:16 GMT\\', \\'Content-Type\\': \\'application/json\\', \\'Transfer-Encoding\\': \\'chunked\\', \\'Connection\\': \\'keep-alive\\', \\'access-control-allow-origin\\': \\'*\\', \\'Cache-Control\\': \\'no-cache, must-revalidate\\', \\'openai-model\\': \\'gpt-3.5-turbo-0613\\', \\'openai-organization\\': \\'user-k8oyxwpy2ln43xyfwaaakcre\\', \\'openai-processing-ms\\': \\'2358\\', \\'openai-version\\': \\'2020-10-01\\', \\'strict-transport-security\\': \\'max-age=15724800; includeSubDomains\\', \\'x-ratelimit-limit-requests\\': \\'3500\\', \\'x-ratelimit-limit-tokens\\': \\'90000\\', \\'x-ratelimit-remaining-requests\\': \\'3499\\', \\'x-ratelimit-remaining-tokens\\': \\'89655\\', \\'x-ratelimit-reset-requests\\': \\'17ms\\', \\'x-ratelimit-reset-tokens\\': \\'230ms\\', \\'x-request-id\\': \\'5eae84607f034e235a0527c13fb49491\\', \\'CF-Cache-Status\\': \\'DYNAMIC\\', \\'Server\\': \\'cloudflare\\', \\'CF-RAY\\': \\'80689f734cb0b37a-PRG\\', \\'Content-Encoding\\': \\'gzip\\', \\'alt-svc\\': \\'h3=\":443\"; ma=86400\\'}' message='API response body'\n",
      "message='Request to OpenAI API' method=post path=https://api.openai.com/v1/chat/completions\n",
      "api_version=None data='{\"messages\": [{\"role\": \"user\", \"content\": \"Given an input question, synthesize a response from the query results.\\\\nQuery: What kind of a temperament does a Ragdoll cat have?\\\\nSQL: SELECT temperament\\\\nFROM cat_breeds\\\\nWHERE name = \\'Ragdoll\\'\\\\nSQL Response: [(\\'gentle\\',)]\\\\nResponse: \"}], \"stream\": false, \"model\": \"gpt-3.5-turbo\", \"temperature\": 0.1, \"max_tokens\": null}' message='Post details'\n",
      "message='OpenAI API response' path=https://api.openai.com/v1/chat/completions processing_ms=816 request_id=7e393c31d76f1873b082183e91984c06 response_code=200\n",
      "body='{\\n  \"id\": \"chatcmpl-7yfjAIvHjNSwv7P8MvAKPNzKmCmJw\",\\n  \"object\": \"chat.completion\",\\n  \"created\": 1694694436,\\n  \"model\": \"gpt-3.5-turbo-0613\",\\n  \"choices\": [\\n    {\\n      \"index\": 0,\\n      \"message\": {\\n        \"role\": \"assistant\",\\n        \"content\": \"The Ragdoll cat breed is known for having a gentle temperament.\"\\n      },\\n      \"finish_reason\": \"stop\"\\n    }\\n  ],\\n  \"usage\": {\\n    \"prompt_tokens\": 65,\\n    \"completion_tokens\": 13,\\n    \"total_tokens\": 78\\n  }\\n}\\n' headers='{\\'Date\\': \\'Thu, 14 Sep 2023 12:27:17 GMT\\', \\'Content-Type\\': \\'application/json\\', \\'Transfer-Encoding\\': \\'chunked\\', \\'Connection\\': \\'keep-alive\\', \\'access-control-allow-origin\\': \\'*\\', \\'Cache-Control\\': \\'no-cache, must-revalidate\\', \\'openai-model\\': \\'gpt-3.5-turbo-0613\\', \\'openai-organization\\': \\'user-k8oyxwpy2ln43xyfwaaakcre\\', \\'openai-processing-ms\\': \\'816\\', \\'openai-version\\': \\'2020-10-01\\', \\'strict-transport-security\\': \\'max-age=15724800; includeSubDomains\\', \\'x-ratelimit-limit-requests\\': \\'3500\\', \\'x-ratelimit-limit-tokens\\': \\'90000\\', \\'x-ratelimit-remaining-requests\\': \\'3499\\', \\'x-ratelimit-remaining-tokens\\': \\'89925\\', \\'x-ratelimit-reset-requests\\': \\'17ms\\', \\'x-ratelimit-reset-tokens\\': \\'50ms\\', \\'x-request-id\\': \\'7e393c31d76f1873b082183e91984c06\\', \\'CF-Cache-Status\\': \\'DYNAMIC\\', \\'Server\\': \\'cloudflare\\', \\'CF-RAY\\': \\'80689f848c88b37a-PRG\\', \\'Content-Encoding\\': \\'gzip\\', \\'alt-svc\\': \\'h3=\":443\"; ma=86400\\'}' message='API response body'\n"
     ]
    }
   ],
   "source": [
    "response = query_engine.query(\"What kind of a temperament does a Ragdoll cat have?\")"
   ]
  },
  {
   "cell_type": "code",
   "execution_count": 44,
   "metadata": {},
   "outputs": [
    {
     "name": "stdout",
     "output_type": "stream",
     "text": [
      "The Ragdoll cat breed is known for having a gentle temperament.\n"
     ]
    }
   ],
   "source": [
    "print(response)"
   ]
  },
  {
   "cell_type": "code",
   "execution_count": 45,
   "metadata": {},
   "outputs": [
    {
     "data": {
      "text/plain": [
       "{'result': [('gentle',)],\n",
       " 'sql_query': \"SELECT temperament\\nFROM cat_breeds\\nWHERE name = 'Ragdoll'\"}"
      ]
     },
     "execution_count": 45,
     "metadata": {},
     "output_type": "execute_result"
    }
   ],
   "source": [
    "response.metadata"
   ]
  }
 ],
 "metadata": {
  "kernelspec": {
   "display_name": "myenv",
   "language": "python",
   "name": "python3"
  },
  "language_info": {
   "codemirror_mode": {
    "name": "ipython",
    "version": 3
   },
   "file_extension": ".py",
   "mimetype": "text/x-python",
   "name": "python",
   "nbconvert_exporter": "python",
   "pygments_lexer": "ipython3",
   "version": "3.9.6"
  },
  "orig_nbformat": 4
 },
 "nbformat": 4,
 "nbformat_minor": 2
}
