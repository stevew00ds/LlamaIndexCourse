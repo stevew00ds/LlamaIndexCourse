{
 "cells": [
  {
   "cell_type": "code",
   "execution_count": 1,
   "metadata": {},
   "outputs": [],
   "source": [
    "import logging\n",
    "import sys\n",
    "import os\n",
    "\n",
    "logging.basicConfig(stream=sys.stdout, level=logging.INFO)\n",
    "logging.getLogger().addHandler(logging.StreamHandler(stream=sys.stdout))"
   ]
  },
  {
   "cell_type": "code",
   "execution_count": 2,
   "metadata": {},
   "outputs": [],
   "source": [
    "import os\n",
    "os.environ['NUMEXPR_MAX_THREADS'] = '4'\n",
    "os.environ['NUMEXPR_NUM_THREADS'] = '2'\n",
    "import numexpr as ne"
   ]
  },
  {
   "cell_type": "code",
   "execution_count": 3,
   "metadata": {},
   "outputs": [],
   "source": [
    "import openai\n",
    "import os\n",
    "openai.api_key=os.environ[\"OPENAI_API_KEY\"] = "
   ]
  },
  {
   "cell_type": "code",
   "execution_count": 4,
   "metadata": {},
   "outputs": [
    {
     "name": "stdout",
     "output_type": "stream",
     "text": [
      "INFO:httpx:HTTP Request: POST https://api.openai.com/v1/embeddings \"HTTP/1.1 200 OK\"\n",
      "HTTP Request: POST https://api.openai.com/v1/embeddings \"HTTP/1.1 200 OK\"\n",
      "INFO:httpx:HTTP Request: POST https://api.openai.com/v1/embeddings \"HTTP/1.1 200 OK\"\n",
      "HTTP Request: POST https://api.openai.com/v1/embeddings \"HTTP/1.1 200 OK\"\n",
      "INFO:httpx:HTTP Request: POST https://api.openai.com/v1/embeddings \"HTTP/1.1 200 OK\"\n",
      "HTTP Request: POST https://api.openai.com/v1/embeddings \"HTTP/1.1 200 OK\"\n",
      "INFO:httpx:HTTP Request: POST https://api.openai.com/v1/embeddings \"HTTP/1.1 200 OK\"\n",
      "HTTP Request: POST https://api.openai.com/v1/embeddings \"HTTP/1.1 200 OK\"\n",
      "INFO:httpx:HTTP Request: POST https://api.openai.com/v1/embeddings \"HTTP/1.1 200 OK\"\n",
      "HTTP Request: POST https://api.openai.com/v1/embeddings \"HTTP/1.1 200 OK\"\n",
      "INFO:httpx:HTTP Request: POST https://api.openai.com/v1/embeddings \"HTTP/1.1 200 OK\"\n",
      "HTTP Request: POST https://api.openai.com/v1/embeddings \"HTTP/1.1 200 OK\"\n",
      "INFO:httpx:HTTP Request: POST https://api.openai.com/v1/embeddings \"HTTP/1.1 200 OK\"\n",
      "HTTP Request: POST https://api.openai.com/v1/embeddings \"HTTP/1.1 200 OK\"\n",
      "INFO:httpx:HTTP Request: POST https://api.openai.com/v1/embeddings \"HTTP/1.1 200 OK\"\n",
      "HTTP Request: POST https://api.openai.com/v1/embeddings \"HTTP/1.1 200 OK\"\n",
      "INFO:httpx:HTTP Request: POST https://api.openai.com/v1/embeddings \"HTTP/1.1 200 OK\"\n",
      "HTTP Request: POST https://api.openai.com/v1/embeddings \"HTTP/1.1 200 OK\"\n",
      "INFO:httpx:HTTP Request: POST https://api.openai.com/v1/embeddings \"HTTP/1.1 200 OK\"\n",
      "HTTP Request: POST https://api.openai.com/v1/embeddings \"HTTP/1.1 200 OK\"\n",
      "INFO:httpx:HTTP Request: POST https://api.openai.com/v1/embeddings \"HTTP/1.1 200 OK\"\n",
      "HTTP Request: POST https://api.openai.com/v1/embeddings \"HTTP/1.1 200 OK\"\n",
      "INFO:httpx:HTTP Request: POST https://api.openai.com/v1/embeddings \"HTTP/1.1 200 OK\"\n",
      "HTTP Request: POST https://api.openai.com/v1/embeddings \"HTTP/1.1 200 OK\"\n",
      "INFO:httpx:HTTP Request: POST https://api.openai.com/v1/embeddings \"HTTP/1.1 200 OK\"\n",
      "HTTP Request: POST https://api.openai.com/v1/embeddings \"HTTP/1.1 200 OK\"\n",
      "INFO:httpx:HTTP Request: POST https://api.openai.com/v1/embeddings \"HTTP/1.1 200 OK\"\n",
      "HTTP Request: POST https://api.openai.com/v1/embeddings \"HTTP/1.1 200 OK\"\n",
      "INFO:httpx:HTTP Request: POST https://api.openai.com/v1/embeddings \"HTTP/1.1 200 OK\"\n",
      "HTTP Request: POST https://api.openai.com/v1/embeddings \"HTTP/1.1 200 OK\"\n",
      "INFO:httpx:HTTP Request: POST https://api.openai.com/v1/embeddings \"HTTP/1.1 200 OK\"\n",
      "HTTP Request: POST https://api.openai.com/v1/embeddings \"HTTP/1.1 200 OK\"\n",
      "INFO:httpx:HTTP Request: POST https://api.openai.com/v1/embeddings \"HTTP/1.1 200 OK\"\n",
      "HTTP Request: POST https://api.openai.com/v1/embeddings \"HTTP/1.1 200 OK\"\n",
      "INFO:httpx:HTTP Request: POST https://api.openai.com/v1/embeddings \"HTTP/1.1 200 OK\"\n",
      "HTTP Request: POST https://api.openai.com/v1/embeddings \"HTTP/1.1 200 OK\"\n",
      "persisting to disk\n"
     ]
    }
   ],
   "source": [
    "from llama_index import VectorStoreIndex, SimpleDirectoryReader, StorageContext, load_index_from_storage\n",
    "\n",
    "try:\n",
    "    storage_context = StorageContext.from_defaults(persist_dir='./storage/cache/andrew/sleep')\n",
    "    index = load_index_from_storage(storage_context)\n",
    "    print('loading from disk')\n",
    "except:\n",
    "    documents = SimpleDirectoryReader('assets/AndrewHuberman/sleep').load_data()\n",
    "    index = VectorStoreIndex.from_documents(documents)\n",
    "    index.storage_context.persist(persist_dir='./storage/cache/andrew/sleep/')\n",
    "    print('persisting to disk')\n",
    "\n"
   ]
  },
  {
   "cell_type": "code",
   "execution_count": 5,
   "metadata": {},
   "outputs": [],
   "source": [
    "openai.log = \"debug\""
   ]
  },
  {
   "cell_type": "code",
   "execution_count": 6,
   "metadata": {},
   "outputs": [],
   "source": [
    "from llama_index.prompts import PromptTemplate\n",
    "\n",
    "text_qa_template_str = (\n",
    "    \"Context information is below.\\n\"\n",
    "    \"---------------------\\n\"\n",
    "    \"{context_str}\\n\"\n",
    "    \"---------------------\\n\"\n",
    "    \"Using both the context information and also using your own knowledge, \"\n",
    "    \"answer the question: {query_str}\\n\"\n",
    "    \"If the context isn't helpful, you can also answer the question on your own.\\n\"\n",
    ")\n",
    "\n",
    "text_qa_template = PromptTemplate(text_qa_template_str)"
   ]
  },
  {
   "cell_type": "code",
   "execution_count": 7,
   "metadata": {},
   "outputs": [],
   "source": [
    "text_qa_template_str = (\n",
    "    \"You are an Andrew huberman assistant that can read Andrew Huberman podcast notes.\\n\"\n",
    "    \"Always answer the query only using the provided context information, \"\n",
    "    \"and not prior knowledge.\\n\"\n",
    "    \"Some rules to follow:\\n\"\n",
    "    \"1. Never directly reference the given context in your answer.\\n\"\n",
    "    \"2. Avoid statements like 'Based on the context, ...' or \"\n",
    "    \"'The context information ...' or anything along \"\n",
    "    \"those lines.\"\n",
    "    \"Context information is below.\\n\"\n",
    "    \"---------------------\\n\"\n",
    "    \"{context_str}\\n\"\n",
    "    \"---------------------\\n\"\n",
    "    \"Answer the question: {query_str}\\n\"\n",
    ")\n",
    "\n",
    "text_qa_template = PromptTemplate(text_qa_template_str)"
   ]
  },
  {
   "cell_type": "code",
   "execution_count": 8,
   "metadata": {},
   "outputs": [
    {
     "name": "stdout",
     "output_type": "stream",
     "text": [
      "INFO:httpx:HTTP Request: POST https://api.openai.com/v1/embeddings \"HTTP/1.1 200 OK\"\n",
      "HTTP Request: POST https://api.openai.com/v1/embeddings \"HTTP/1.1 200 OK\"\n",
      "INFO:httpx:HTTP Request: POST https://api.openai.com/v1/chat/completions \"HTTP/1.1 200 OK\"\n",
      "HTTP Request: POST https://api.openai.com/v1/chat/completions \"HTTP/1.1 200 OK\"\n"
     ]
    }
   ],
   "source": [
    "response = index.as_query_engine(\n",
    "    text_qa_template = text_qa_template \n",
    ").query(\"How does sleep enhance learning memory?\")"
   ]
  },
  {
   "cell_type": "code",
   "execution_count": 9,
   "metadata": {},
   "outputs": [
    {
     "name": "stdout",
     "output_type": "stream",
     "text": [
      "Sleep enhances learning and memory by facilitating motor learning and the learning of specific details about events. Slow wave sleep, which primarily occurs in the early part of the night, is important for motor skill learning and the acquisition of detailed information. During slow wave sleep, there is a release of neuromodulators such as norepinephrine and serotonin, which contribute to the consolidation of learning. Additionally, REM sleep, which occurs throughout the night with a larger percentage towards morning, is also involved in learning and memory processes. Therefore, getting sufficient and consistent sleep is crucial for optimal learning and memory retention.\n"
     ]
    }
   ],
   "source": [
    "print(response)"
   ]
  },
  {
   "cell_type": "code",
   "execution_count": 10,
   "metadata": {},
   "outputs": [
    {
     "name": "stdout",
     "output_type": "stream",
     "text": [
      "Sleep enhances learning and memory by facilitating motor learning and the learning of specific details about events. Slow wave sleep, which primarily occurs in the early part of the night, is important for motor skill learning and the acquisition of detailed information. During slow wave sleep, there is a release of neuromodulators such as norepinephrine and serotonin, which contribute to the consolidation of learning. Additionally, REM sleep, which occurs throughout the night with a larger percentage towards morning, is also involved in learning and memory processes. Therefore, getting sufficient and consistent sleep is crucial for optimal learning and memory retention.\n"
     ]
    }
   ],
   "source": [
    "print(response)"
   ]
  },
  {
   "cell_type": "code",
   "execution_count": 11,
   "metadata": {},
   "outputs": [
    {
     "name": "stdout",
     "output_type": "stream",
     "text": [
      "Sleep enhances learning and memory by facilitating motor learning and the learning of specific details about events. Slow wave sleep, which primarily occurs in the early part of the night, is important for motor skill learning and the acquisition of detailed information. During slow wave sleep, there is a release of neuromodulators such as norepinephrine and serotonin, which contribute to the consolidation of learning. Additionally, REM sleep, which occurs throughout the night with a larger percentage towards morning, is also involved in learning and memory processes. Therefore, getting sufficient and consistent sleep is crucial for optimal learning and memory retention.\n"
     ]
    }
   ],
   "source": [
    "print(response)"
   ]
  },
  {
   "cell_type": "code",
   "execution_count": 12,
   "metadata": {},
   "outputs": [
    {
     "name": "stdout",
     "output_type": "stream",
     "text": [
      "[NodeWithScore(node=TextNode(id_='8e263719-638f-4e34-bbb6-deeb0a1d3a26', embedding=None, metadata={'file_path': 'assets/AndrewHuberman/sleep/05_Understanding_and_Using_Dreams_to_Learn_and_to_Forget_Huberman_Lab_Podcast_5.txt', 'file_name': '05_Understanding_and_Using_Dreams_to_Learn_and_to_Forget_Huberman_Lab_Podcast_5.txt', 'file_type': 'text/plain', 'file_size': 75844, 'creation_date': '2023-12-01', 'last_modified_date': '2023-12-01', 'last_accessed_date': '2023-12-01'}, excluded_embed_metadata_keys=['file_name', 'file_type', 'file_size', 'creation_date', 'last_modified_date', 'last_accessed_date'], excluded_llm_metadata_keys=['file_name', 'file_type', 'file_size', 'creation_date', 'last_modified_date', 'last_accessed_date'], relationships={<NodeRelationship.SOURCE: '1'>: RelatedNodeInfo(node_id='ea2665b3-f82b-4fef-b19c-030024140225', node_type=<ObjectType.DOCUMENT: '4'>, metadata={'file_path': 'assets/AndrewHuberman/sleep/05_Understanding_and_Using_Dreams_to_Learn_and_to_Forget_Huberman_Lab_Podcast_5.txt', 'file_name': '05_Understanding_and_Using_Dreams_to_Learn_and_to_Forget_Huberman_Lab_Podcast_5.txt', 'file_type': 'text/plain', 'file_size': 75844, 'creation_date': '2023-12-01', 'last_modified_date': '2023-12-01', 'last_accessed_date': '2023-12-01'}, hash='67f9e563a6fab1f8df1d982a9a47f5f087aaacbd7c3e0451de8c0810ec43c55b'), <NodeRelationship.PREVIOUS: '2'>: RelatedNodeInfo(node_id='d1e639ae-7060-415e-a183-da3602aecfa9', node_type=<ObjectType.TEXT: '1'>, metadata={'file_path': 'assets/AndrewHuberman/sleep/05_Understanding_and_Using_Dreams_to_Learn_and_to_Forget_Huberman_Lab_Podcast_5.txt', 'file_name': '05_Understanding_and_Using_Dreams_to_Learn_and_to_Forget_Huberman_Lab_Podcast_5.txt', 'file_type': 'text/plain', 'file_size': 75844, 'creation_date': '2023-12-01', 'last_modified_date': '2023-12-01', 'last_accessed_date': '2023-12-01'}, hash='bb95343ef4cb24bac0ebea6a0eacb2c2472930d0f10278669781ad04713f53b8'), <NodeRelationship.NEXT: '3'>: RelatedNodeInfo(node_id='3eb13bee-f47d-41c6-9ce9-d4a54685cce9', node_type=<ObjectType.TEXT: '1'>, metadata={}, hash='dafdd3d73265d7cd79e4f8136001b35c2b85eb23762c0fdb5c490ddcf6211ed1')}, hash='5d2b59275aa1cf91fdc79451f073da0ad6c735174e32bfd8f280767e0fb7f038', text=\"So if people are tested and in terms of their performance on these types of exams and they're deprived of slow wave sleep, they tend to perform very poorly. So we can think of slow wave sleep as important for motor learning, motor skill learning and for the learning of specific details about specific events. And this turns out to be fundamentally important because now we know that slow wave sleep is primarily in the early part of the night, and motor learning is occurring primarily early in the night, and detailed learning is occurring early in the night. Now for those of you that are waking up after only three, four hours of sleep, this might be informative. This might tell you a little something about what you are able to learn and not able to learn if that were to be the only sleep that you get. Although, hopefully that's not the only sleep that you get. But we're going to dive deep into how it is that one can maximize motor learning in order to extract say, more detail information about coordinated movements and how to make them faster or slower. So that might be important for certain sports. It might be almost certainly important for certain sports. It's gonna be important for any kind of coordinated movement, like say learning to play the piano, or for instance, how to learn synchronized movements with somebody else. So maybe I mentioned the example of dance earlier. Like me a few years ago, I set out to learn tango because I have some Argentine relatives and I was a Bismal. I need to return to that at some point. I was just a Bismal. And one of the worst things about being a bismal at learning dance is that, that somebody else has to suffer the consequences also. So I don't know maybe in the month on neuroplasticity, I'll explore that again as a self experimentation. But, the key things to know are slow wave sleep is involved in motor learning and detailed learning. There's no acetylcholine around at that time, has these big amplitude activity sweeping throughout the brain and that there's the release of these neuromodulators, norepinephrine and serotonin. And again, that's all happening early in the night. So athletes, people that are concerned about performance, if you happen to wake up after just a couple hours of, you know, three, four hours of sleep because you're excited about a competition the next day, presumably if you've already trained the skills that you need for the event you should be fine to engage in that particular activity. Now it's always going to be better to get a full night's sleep. And that, you know, a full night's sleep for you is six hours then it's always gonna be better to get more sleep than it is to get less. However, I think some people get a little bit overly concerned that if they didn't get their full night's sleep before some sort of physical event that their performance is going to plummet. Presumably, if you've already learned what you need to do, and it's stored in your neural circuits and you know how to make those coordinated movements, what the literature on slow wave sleep suggest is that you would be replenished. That the motor learning and the recovery from exercise is going to happen early in the night. Okay. So we'll just pause there, and kind of shelve that for a moment and then we're gonna come back to it. But I wanna talk about REM sleep, or rapid eye movement sleep. REM sleep and rapid eye movement sleep, as I mentioned before, occurs throughout the night, but you're gonna have more of it. A larger percentage of these 90 minute sleep cycles is going to be comprised of REM sleep as you get toward morning. REM sleep is fascinating. It was discovered in '50s when a sleep laboratory in Chicago, the researchers observed that people's eyes were moving under their eyelids. Now, something very important that we're going to address when we talk about trauma later is that, the eye movements are not just side to side they're very erratic in all different directions. One thing that I don't think I've never heard anyone really talk about publicly is, why eye movements during sleep, right? Eyes are closed. And sometimes people's eyelids will be a little bit open and their eyes are darting around, especially in little kids. I don't suggest you do this. I'm not even sure it's ethical. But, it has been done where you, you know, pull back the eyelids of a kid while they're sleeping and their eyes are kind of darting all over the place.\", start_char_idx=14122, end_char_idx=18578, text_template='{metadata_str}\\n\\n{content}', metadata_template='{key}: {value}', metadata_seperator='\\n'), score=0.8588109122930817), NodeWithScore(node=TextNode(id_='33c45c93-15af-4448-8db4-cef9599af18a', embedding=None, metadata={'file_path': 'assets/AndrewHuberman/sleep/05_Understanding_and_Using_Dreams_to_Learn_and_to_Forget_Huberman_Lab_Podcast_5.txt', 'file_name': '05_Understanding_and_Using_Dreams_to_Learn_and_to_Forget_Huberman_Lab_Podcast_5.txt', 'file_type': 'text/plain', 'file_size': 75844, 'creation_date': '2023-12-01', 'last_modified_date': '2023-12-01', 'last_accessed_date': '2023-12-01'}, excluded_embed_metadata_keys=['file_name', 'file_type', 'file_size', 'creation_date', 'last_modified_date', 'last_accessed_date'], excluded_llm_metadata_keys=['file_name', 'file_type', 'file_size', 'creation_date', 'last_modified_date', 'last_accessed_date'], relationships={<NodeRelationship.SOURCE: '1'>: RelatedNodeInfo(node_id='ea2665b3-f82b-4fef-b19c-030024140225', node_type=<ObjectType.DOCUMENT: '4'>, metadata={'file_path': 'assets/AndrewHuberman/sleep/05_Understanding_and_Using_Dreams_to_Learn_and_to_Forget_Huberman_Lab_Podcast_5.txt', 'file_name': '05_Understanding_and_Using_Dreams_to_Learn_and_to_Forget_Huberman_Lab_Podcast_5.txt', 'file_type': 'text/plain', 'file_size': 75844, 'creation_date': '2023-12-01', 'last_modified_date': '2023-12-01', 'last_accessed_date': '2023-12-01'}, hash='67f9e563a6fab1f8df1d982a9a47f5f087aaacbd7c3e0451de8c0810ec43c55b'), <NodeRelationship.PREVIOUS: '2'>: RelatedNodeInfo(node_id='5f9f7331-a709-4ac0-bc9f-9ec10ba1a481', node_type=<ObjectType.TEXT: '1'>, metadata={'file_path': 'assets/AndrewHuberman/sleep/05_Understanding_and_Using_Dreams_to_Learn_and_to_Forget_Huberman_Lab_Podcast_5.txt', 'file_name': '05_Understanding_and_Using_Dreams_to_Learn_and_to_Forget_Huberman_Lab_Podcast_5.txt', 'file_type': 'text/plain', 'file_size': 75844, 'creation_date': '2023-12-01', 'last_modified_date': '2023-12-01', 'last_accessed_date': '2023-12-01'}, hash='c940de9a8e0f381cc79ec8a59ac653db3171e43af0c72bd9acd2025c047dc8d7'), <NodeRelationship.NEXT: '3'>: RelatedNodeInfo(node_id='ddd47581-2614-456e-8f31-1c2eaf415036', node_type=<ObjectType.TEXT: '1'>, metadata={}, hash='85be384d5fa3ce069e800f6c24e3a651a2ff45faf1babb8bfd7a20f1d94cfbbc')}, hash='2d8bb7d109232765c9964609adecb522bc4d02b1c6ebab2bda8a0637d5378351', text='And for many people those devices can be quite useful. Some people are only gauging their sleep by way of whether or not they feel rested, whether or not they feel like they\\'re learning and they\\'re getting better or not. There are some things that one can really do. And the first one might surprise you in light of everything I\\'ve said, and probably everything you\\'ve heard about sleep. There was a study done by a Harvard undergraduate, Emily Hoagland, who was in Robert Stickgold\\'s lab at the time. And that\\'s the study explored how variations in total sleep time related to learning, as compared to total sleep time itself. And to summarize the study, what they found was that it was more important to have a regular amount of sleep each night as opposed to the total duration. 53:15 Sleep Consistency In other words, and what they showed was that improvements in learning or deficits in learning were more related to whether or not you got six hours, six hours, five hours, six hours, that was better than if somebody got for instance, six hours, 10 hours, seven hours, four or five hours. See you might say, \"Well, that\\'s crazy because I thought we were just all supposed to get more sleep and there\\'s more REM towards morning.\" It turns out that forsake of learning new information and performance on exams in particular, that\\'s what was measured, limiting the variation in the amount of your sleep is at least as important and perhaps more important than just getting more sleep overall. And I think this will bring people great relief, many people great relief who are struggling to \"get enough sleep.\" Remember, a few episodes ago I talked about the difference between fatigue and insomnia. You know, fatigue tends to be when we are tired. Insomnia tends to lead to a sleepiness during the day when we\\'re falling asleep. And you don\\'t want that, you don\\'t want either of those things really. But, I found it striking that the data from this study really point to the fact that consistently getting about the same amount of sleep is better than just getting more sleep. And I think nowadays so many people are just aiming for more sleep, and they\\'re rather troubled about the fact that they\\'re only getting five hours, or they\\'re only getting six hours in some cases. It may be the case that they are sleep deprived and they need more sleep, but some people just have a lower sleep need. And I find great relief, personally, in the fact that consistently getting, for me, about six hours or six and a half hours is going to be more beneficial than constantly striving for eight or nine and finding that some nights I\\'m getting five and sometimes I\\'m getting nine and varying around the mean. As I recall, and I think I\\'m gonna get this precisely right, but if not I know that I\\'m at least close. For every hour variation in sleep regardless of whether or not it was more sleep than one typically got, there was a 17% reduction in performance on this particular exam type. So this is powerful. This means that we should strive for a regular amount of sleep. And for some of us that means falling asleep and waking up and going back to sleep. For some people means falling asleep and waking up and not getting back to sleep. Now ideally, you\\'re getting the full compliment of slow wave sleep early at night and sleep toward morning, which is REM sleep. Which brings us to, how to get more REM sleep. Well, there are a couple of different ways but here\\'s how to not get more REM sleep. All right. First of all, drink a lot of fluid right before going to sleep. One of the reasons why we wake up in the middle of the night to use the bathroom is because when our bladder is full there is a neural connection, literally a set of neurons and a nerve circuit that goes to the brain stem that wakes us up. Actually some people that I know and won\\'t be mentioned, actually use this to try and adjust for their jet lag when they\\'re trying to stay awake. Having to urinate is one of the most anxiety evoking experiences anyone can have. If you really have to go to the bathroom it\\'s very hard to fall asleep or stay asleep. And bedwetting, which happens in kids very early on is a failure of those circuits to mature until, you know, I think we all assume that babies are gonna pee in their sleep, but adults aren\\'t supposed to do that. And the circuits take some time to develop and in some kids they develop a little bit later than others.', start_char_idx=50726, end_char_idx=55165, text_template='{metadata_str}\\n\\n{content}', metadata_template='{key}: {value}', metadata_seperator='\\n'), score=0.8577432379180233)]\n"
     ]
    }
   ],
   "source": [
    "print(response.source_nodes)"
   ]
  },
  {
   "cell_type": "code",
   "execution_count": 13,
   "metadata": {},
   "outputs": [
    {
     "name": "stdout",
     "output_type": "stream",
     "text": [
      "Final Response: Sleep enhances learning and memory by facilitating\n",
      "motor learning and the learning of specific details about events. Slow\n",
      "wave sleep, which primarily occurs in the early part of the night, is\n",
      "important for motor skill learning and the acquisition of detailed\n",
      "information. During slow wave sleep, there is a release of\n",
      "neuromodulators such as norepinephrine and serotonin, which contribute\n",
      "to the consolidation of learning. Additionally, REM sleep, which\n",
      "occurs throughout the night with a larger percentage towards morning,\n",
      "is also involved in learning and memory processes. Therefore, getting\n",
      "sufficient and consistent sleep is crucial for optimal learning and\n",
      "memory retention.\n",
      "______________________________________________________________________\n",
      "Source Node 1/2\n",
      "Node ID: 8e263719-638f-4e34-bbb6-deeb0a1d3a26\n",
      "Similarity: 0.8588109122930817\n",
      "Text: So if people are tested and in terms of their performance on\n",
      "these types of exams and they're deprived of slow wave sleep, they\n",
      "tend to perform very poorly. So we can think of slow wave sleep as\n",
      "important for motor learning, motor skill learning and for the\n",
      "learning of specific details about specific events. And this turns out\n",
      "to be fundamentall...\n",
      "______________________________________________________________________\n",
      "Source Node 2/2\n",
      "Node ID: 33c45c93-15af-4448-8db4-cef9599af18a\n",
      "Similarity: 0.8577432379180233\n",
      "Text: And for many people those devices can be quite useful. Some\n",
      "people are only gauging their sleep by way of whether or not they feel\n",
      "rested, whether or not they feel like they're learning and they're\n",
      "getting better or not. There are some things that one can really do.\n",
      "And the first one might surprise you in light of everything I've said,\n",
      "and proba...\n"
     ]
    }
   ],
   "source": [
    "from llama_index.response.pprint_utils import pprint_response\n",
    "pprint_response(response, show_source=True)"
   ]
  },
  {
   "cell_type": "code",
   "execution_count": null,
   "metadata": {},
   "outputs": [],
   "source": []
  }
 ],
 "metadata": {
  "kernelspec": {
   "display_name": "myenv",
   "language": "python",
   "name": "python3"
  },
  "language_info": {
   "codemirror_mode": {
    "name": "ipython",
    "version": 3
   },
   "file_extension": ".py",
   "mimetype": "text/x-python",
   "name": "python",
   "nbconvert_exporter": "python",
   "pygments_lexer": "ipython3",
   "version": "3.11.4"
  },
  "orig_nbformat": 4
 },
 "nbformat": 4,
 "nbformat_minor": 2
}
