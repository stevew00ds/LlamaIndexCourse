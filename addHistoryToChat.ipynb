{
 "cells": [
  {
   "cell_type": "code",
   "execution_count": 2,
   "metadata": {},
   "outputs": [],
   "source": [
    "import logging\n",
    "import sys\n",
    "import os\n",
    "\n",
    "logging.basicConfig(stream=sys.stdout, level=logging.INFO)\n",
    "logging.getLogger().addHandler(logging.StreamHandler(stream=sys.stdout))"
   ]
  },
  {
   "cell_type": "code",
   "execution_count": 3,
   "metadata": {},
   "outputs": [],
   "source": [
    "import os\n",
    "os.environ['NUMEXPR_MAX_THREADS'] = '4'\n",
    "os.environ['NUMEXPR_NUM_THREADS'] = '2'\n",
    "import numexpr as ne"
   ]
  },
  {
   "cell_type": "code",
   "execution_count": null,
   "metadata": {},
   "outputs": [],
   "source": [
    "import os\n",
    "os.environ[\"OPENAI_API_KEY\"] = \"sk-xxx\"\n",
    "import openai\n",
    "openai.api_key = \"sk-xxx\""
   ]
  },
  {
   "cell_type": "code",
   "execution_count": 4,
   "metadata": {},
   "outputs": [
    {
     "name": "stdout",
     "output_type": "stream",
     "text": [
      "INFO:chromadb.telemetry.posthog:Anonymized telemetry enabled. See https://docs.trychroma.com/telemetry for more information.\n",
      "Anonymized telemetry enabled. See https://docs.trychroma.com/telemetry for more information.\n"
     ]
    }
   ],
   "source": [
    "from llama_index import VectorStoreIndex\n",
    "from llama_index.vector_stores import ChromaVectorStore\n",
    "from llama_index.storage.storage_context import StorageContext\n",
    "import chromadb\n",
    "\n",
    "db2 = chromadb.PersistentClient(path=\"./storage/chroma\")\n",
    "chroma_collection = db2.get_or_create_collection(\"andrew_sleep_db\")\n",
    "vector_store = ChromaVectorStore(chroma_collection=chroma_collection)\n",
    "storage_context = StorageContext.from_defaults(vector_store=vector_store)\n",
    "index = VectorStoreIndex.from_vector_store(\n",
    "    vector_store=vector_store,\n",
    "    storage_context=storage_context,\n",
    ")"
   ]
  },
  {
   "cell_type": "code",
   "execution_count": 12,
   "metadata": {},
   "outputs": [],
   "source": [
    "chat_engine = index.as_chat_engine(chat_mode=\"condense_question\")"
   ]
  },
  {
   "cell_type": "code",
   "execution_count": 13,
   "metadata": {},
   "outputs": [
    {
     "name": "stdout",
     "output_type": "stream",
     "text": [
      "INFO:llama_index.chat_engine.condense_question:Querying with: What can I do to improve my sleep quality?\n",
      "Querying with: What can I do to improve my sleep quality?\n"
     ]
    }
   ],
   "source": [
    "response = chat_engine.chat(\"How can I sleep better?\")"
   ]
  },
  {
   "cell_type": "code",
   "execution_count": 14,
   "metadata": {},
   "outputs": [
    {
     "name": "stdout",
     "output_type": "stream",
     "text": [
      "To improve sleep quality, there are several things you can do. First, strive for a regular amount of sleep and establish a consistent sleep schedule. This means going to bed and waking up at the same time every day, even on weekends. Avoid variations in sleep duration, as even an hour difference can negatively impact performance. \n",
      "\n",
      "To promote better sleep, avoid drinking a lot of fluids right before bed to prevent waking up to use the bathroom. Additionally, try not to have a full bladder before going to sleep, as it can disrupt sleep. While it's important to stay hydrated, drinking excessive amounts of water before bed can lead to fragmented REM sleep.\n",
      "\n",
      "If you want to remember your dreams, you can try drinking a lot of water before sleep. This tends to result in fragmented REM sleep, which can increase dream recall. However, it's not recommended to have a full bladder before bed.\n",
      "\n",
      "To increase slow wave sleep, which is involved in motor learning and acquiring detailed information, engage in resistance exercise. This type of exercise triggers metabolic and endocrine pathways that release growth hormone, promoting more slow wave sleep. It's best to perform resistance exercise earlier in the day, as exercising close to bedtime may disrupt sleep for some individuals.\n",
      "\n",
      "Other tools that can potentially improve sleep quality include using eye masks to block out light, ensuring the room and sleeping environment are cool enough, and using earplugs to block out noise if they don't cause discomfort. Elevating your feet or the head side of the bed slightly can also have benefits, but be cautious if you have acid reflux.\n",
      "\n",
      "Lastly, if you suspect you may have sleep apnea, it is important to seek medical attention. Sleep apnea can have serious health consequences and may require the use of a continuous positive airway pressure (CPAP) device. However, for milder cases, training yourself to be a nose breather during sleep can help alleviate sleep apnea and improve sleep quality.\n"
     ]
    }
   ],
   "source": [
    "print(response)"
   ]
  },
  {
   "cell_type": "code",
   "execution_count": 15,
   "metadata": {},
   "outputs": [
    {
     "name": "stdout",
     "output_type": "stream",
     "text": [
      "INFO:llama_index.chat_engine.condense_question:Querying with: What are some strategies for improving sleep quality?\n",
      "Querying with: What are some strategies for improving sleep quality?\n"
     ]
    }
   ],
   "source": [
    "response = chat_engine.chat(\"Can you tell me more?\")"
   ]
  },
  {
   "cell_type": "code",
   "execution_count": 16,
   "metadata": {},
   "outputs": [
    {
     "name": "stdout",
     "output_type": "stream",
     "text": [
      "Some strategies for improving sleep quality include maintaining a regular sleep schedule, avoiding fluids right before bedtime to prevent waking up to use the bathroom, not going to bed with a full bladder, avoiding supplements that may disrupt REM sleep and slow wave sleep, engaging in resistance exercise to increase slow wave sleep, and using non-sleep deep rest protocols to relax and reduce anxiety.\n"
     ]
    }
   ],
   "source": [
    "print(response)"
   ]
  },
  {
   "cell_type": "code",
   "execution_count": 17,
   "metadata": {},
   "outputs": [],
   "source": [
    "chat_engine.reset()"
   ]
  },
  {
   "cell_type": "code",
   "execution_count": 18,
   "metadata": {},
   "outputs": [
    {
     "name": "stdout",
     "output_type": "stream",
     "text": [
      "INFO:llama_index.chat_engine.condense_question:Querying with: Is there anything else you need assistance with?\n",
      "Querying with: Is there anything else you need assistance with?\n"
     ]
    }
   ],
   "source": [
    "response = chat_engine.chat(\"Is there anything else I can do?\")"
   ]
  },
  {
   "cell_type": "code",
   "execution_count": 19,
   "metadata": {},
   "outputs": [
    {
     "name": "stdout",
     "output_type": "stream",
     "text": [
      "I'm sorry, but based on the given context, I cannot determine if there is anything else you need assistance with.\n"
     ]
    }
   ],
   "source": [
    "print(response)"
   ]
  }
 ],
 "metadata": {
  "kernelspec": {
   "display_name": "myenv",
   "language": "python",
   "name": "python3"
  },
  "language_info": {
   "codemirror_mode": {
    "name": "ipython",
    "version": 3
   },
   "file_extension": ".py",
   "mimetype": "text/x-python",
   "name": "python",
   "nbconvert_exporter": "python",
   "pygments_lexer": "ipython3",
   "version": "3.9.6"
  },
  "orig_nbformat": 4
 },
 "nbformat": 4,
 "nbformat_minor": 2
}
