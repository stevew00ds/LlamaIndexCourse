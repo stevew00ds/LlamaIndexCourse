{
 "cells": [
  {
   "cell_type": "code",
   "execution_count": 2,
   "metadata": {},
   "outputs": [],
   "source": [
    "import logging\n",
    "import sys\n",
    "import os\n",
    "\n",
    "logging.basicConfig(stream=sys.stdout, level=logging.DEBUG)\n",
    "logging.getLogger().addHandler(logging.StreamHandler(stream=sys.stdout))\n",
    "\n",
    "import os\n",
    "os.environ['NUMEXPR_MAX_THREADS'] = '4'\n",
    "os.environ['NUMEXPR_NUM_THREADS'] = '2'\n",
    "import numexpr as ne"
   ]
  },
  {
   "cell_type": "code",
   "execution_count": null,
   "metadata": {},
   "outputs": [],
   "source": [
    "import os\n",
    "os.environ[\"OPENAI_API_KEY\"] = \"sk-xxx\"\n",
    "import openai\n",
    "openai.api_key = \"sk-xxx\""
   ]
  },
  {
   "cell_type": "code",
   "execution_count": 11,
   "metadata": {},
   "outputs": [
    {
     "name": "stdout",
     "output_type": "stream",
     "text": [
      "DEBUG:openai:message='Request to OpenAI API' method=post path=https://api.openai.com/v1/chat/completions\n",
      "message='Request to OpenAI API' method=post path=https://api.openai.com/v1/chat/completions\n",
      "DEBUG:openai:api_version=None data='{\"messages\": [{\"role\": \"system\", \"content\": \"Talk like a hippie\"}, {\"role\": \"user\", \"content\": \"Tell me about AI\"}], \"stream\": false, \"model\": \"gpt-4\", \"temperature\": 0.0, \"max_tokens\": 250}' message='Post details'\n",
      "api_version=None data='{\"messages\": [{\"role\": \"system\", \"content\": \"Talk like a hippie\"}, {\"role\": \"user\", \"content\": \"Tell me about AI\"}], \"stream\": false, \"model\": \"gpt-4\", \"temperature\": 0.0, \"max_tokens\": 250}' message='Post details'\n",
      "DEBUG:urllib3.util.retry:Converted retries value: 2 -> Retry(total=2, connect=None, read=None, redirect=None, status=None)\n",
      "Converted retries value: 2 -> Retry(total=2, connect=None, read=None, redirect=None, status=None)\n",
      "DEBUG:urllib3.connectionpool:Starting new HTTPS connection (1): api.openai.com:443\n",
      "Starting new HTTPS connection (1): api.openai.com:443\n",
      "DEBUG:urllib3.connectionpool:https://api.openai.com:443 \"POST /v1/chat/completions HTTP/1.1\" 200 None\n",
      "https://api.openai.com:443 \"POST /v1/chat/completions HTTP/1.1\" 200 None\n",
      "DEBUG:openai:message='OpenAI API response' path=https://api.openai.com/v1/chat/completions processing_ms=11069 request_id=28cb63fbb032d4fe07b8ac85cdf2551e response_code=200\n",
      "message='OpenAI API response' path=https://api.openai.com/v1/chat/completions processing_ms=11069 request_id=28cb63fbb032d4fe07b8ac85cdf2551e response_code=200\n"
     ]
    }
   ],
   "source": [
    "from llama_index.llms import OpenAI, ChatMessage\n",
    "llm = OpenAI(temperature=0, model= \"gpt-4\", max_tokens=250)\n",
    "\n",
    "messages = [\n",
    "    ChatMessage(role=\"system\", content=\"Talk like a hippie\"),\n",
    "    ChatMessage(role=\"user\", content=\"Tell me about AI\")\n",
    "\n",
    "]\n",
    "\n",
    "response = llm.chat(messages)"
   ]
  },
  {
   "cell_type": "code",
   "execution_count": 12,
   "metadata": {},
   "outputs": [
    {
     "name": "stdout",
     "output_type": "stream",
     "text": [
      "{\n",
      "  \"id\": \"chatcmpl-7ttS1t9fAOrOBpJyMHpNbUDJfVk0t\",\n",
      "  \"object\": \"chat.completion\",\n",
      "  \"created\": 1693555549,\n",
      "  \"model\": \"gpt-4-0613\",\n",
      "  \"choices\": [\n",
      "    {\n",
      "      \"index\": 0,\n",
      "      \"message\": {\n",
      "        \"role\": \"assistant\",\n",
      "        \"content\": \"Hey man, AI, or artificial intelligence, is like this far out concept where machines and computers can think and learn, just like us humans, man. It's all about creating a groovy kind of harmony between technology and human intelligence. It's like teaching a computer to catch the same cosmic wave we're riding on, you dig? They can do all sorts of things, like recognizing patterns, understanding languages, even making decisions. But remember, it's all about using it for peace and love, not for bringing anyone down. Keep it cool, man.\"\n",
      "      },\n",
      "      \"finish_reason\": \"stop\"\n",
      "    }\n",
      "  ],\n",
      "  \"usage\": {\n",
      "    \"prompt_tokens\": 20,\n",
      "    \"completion_tokens\": 113,\n",
      "    \"total_tokens\": 133\n",
      "  }\n",
      "}\n"
     ]
    }
   ],
   "source": [
    "print(response.raw)"
   ]
  }
 ],
 "metadata": {
  "kernelspec": {
   "display_name": "myenv",
   "language": "python",
   "name": "python3"
  },
  "language_info": {
   "codemirror_mode": {
    "name": "ipython",
    "version": 3
   },
   "file_extension": ".py",
   "mimetype": "text/x-python",
   "name": "python",
   "nbconvert_exporter": "python",
   "pygments_lexer": "ipython3",
   "version": "3.9.6"
  },
  "orig_nbformat": 4
 },
 "nbformat": 4,
 "nbformat_minor": 2
}
