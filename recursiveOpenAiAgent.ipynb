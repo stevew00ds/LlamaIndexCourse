{
 "cells": [
  {
   "cell_type": "code",
   "execution_count": null,
   "metadata": {},
   "outputs": [],
   "source": [
    "import logging\n",
    "import sys\n",
    "import os\n",
    "\n",
    "logging.basicConfig(stream=sys.stdout, level=logging.INFO)\n",
    "logging.getLogger().addHandler(logging.StreamHandler(stream=sys.stdout))\n",
    "\n",
    "os.environ['NUMEXPR_MAX_THREADS'] = '4'\n",
    "os.environ['NUMEXPR_NUM_THREADS'] = '2'\n",
    "import numexpr as ne"
   ]
  },
  {
   "cell_type": "code",
   "execution_count": null,
   "metadata": {},
   "outputs": [],
   "source": [
    "import os\n",
    "os.environ[\"OPENAI_API_KEY\"] = \"sk-xxx\"\n",
    "import openai\n",
    "openai.api_key = \"sk-xxx\""
   ]
  },
  {
   "cell_type": "code",
   "execution_count": null,
   "metadata": {},
   "outputs": [],
   "source": [
    "from pathlib import Path\n",
    "from llama_index import download_loader, VectorStoreIndex, load_index_from_storage, SummaryIndex\n",
    "from llama_index.storage.storage_context import StorageContext\n",
    "\n",
    "PDFReader = download_loader(\"PDFReader\")\n",
    "\n",
    "loader = PDFReader()\n",
    "\n",
    "class PodcastTitle:\n",
    "    def __init__(self, name, about, file, key):\n",
    "        self.name = name\n",
    "        self.about = about   \n",
    "        self.file = file\n",
    "        self.key = key\n",
    "\n",
    "podcast_titles = [\n",
    "    PodcastTitle(\"10 Tools for Managing Stress and Anxiety with Huberman\", \"manage stress and anxiety\", \"behaviour/10_Tools_for_Managing_Stress_&_Anxiety_Huberman_Lab_Podcast_10.pdf\", \"tools_for_stress\"),\n",
    "    PodcastTitle(\"The Science of Setting and Achieving Goals with Huberman\", \"set and achieve goals\", \"behaviour/55_The_Science_of_Setting_&_Achieving_Goals_Huberman_Lab_Podcast_55.pdf\", \"setting_goals\"),\n",
    "    PodcastTitle(\"Dr Chris Palmer Diet and Nutrition for Mental Health with Huberman\", \"have healthy diet for mental health\", \"food/99_Dr_Chris_Palmer_Diet_&_Nutrition_for_Mental_Health_Huberman_Lab_Podcast_99.pdf\", \"diet_nutrition\"),\n",
    "]\n",
    "\n",
    "podcast_vector_index = {}\n",
    "podcast_summary_index = {}\n",
    "for podcast in podcast_titles:\n",
    "    try:\n",
    "        storage_context = StorageContext.from_defaults(persist_dir=f\"./storage/cache/{podcast.key}_vector\")\n",
    "        podcast_vector_index[podcast.key] = load_index_from_storage(storage_context)\n",
    "\n",
    "        storage_context = StorageContext.from_defaults(persist_dir=f\"./storage/cache/{podcast.key}_summary\")\n",
    "        podcast_summary_index[podcast.key] = load_index_from_storage(storage_context)\n",
    "    except:\n",
    "        documents = loader.load_data(file=Path(f\"./assets/AndrewHuberman/{podcast.file}\"))\n",
    "        vector_index = VectorStoreIndex.from_documents(documents)\n",
    "        podcast_vector_index[podcast.key] = vector_index\n",
    "        vector_index.storage_context.persist(persist_dir=f\"./storage/cache/{podcast.key}_vector\")\n",
    "\n",
    "        podcast_summary_index[podcast.key] = SummaryIndex.from_documents(documents)\n",
    "        podcast_summary_index[podcast.key].storage_context.persist(persist_dir=f\"./storage/cache/{podcast.key}_summary\")\n",
    "\n",
    "\n"
   ]
  },
  {
   "cell_type": "code",
   "execution_count": 18,
   "metadata": {},
   "outputs": [
    {
     "data": {
      "text/plain": [
       "{'tools_for_stress': <llama_index.indices.list.base.SummaryIndex at 0x1460650d0>,\n",
       " 'setting_goals': <llama_index.indices.list.base.SummaryIndex at 0x1461275e0>,\n",
       " 'diet_nutrition': <llama_index.indices.list.base.SummaryIndex at 0x1459080d0>}"
      ]
     },
     "execution_count": 18,
     "metadata": {},
     "output_type": "execute_result"
    }
   ],
   "source": [
    "podcast_summary_index"
   ]
  },
  {
   "cell_type": "code",
   "execution_count": 20,
   "metadata": {},
   "outputs": [],
   "source": [
    "from llama_index.indices.postprocessor import KeywordNodePostprocessor\n",
    "from llama_index.retrievers import VectorIndexRetriever\n",
    "from llama_index.query_engine import RetrieverQueryEngine\n",
    "from llama_index.tools import QueryEngineTool, ToolMetadata\n",
    "\n",
    "\n",
    "node_processor = KeywordNodePostprocessor(\n",
    "    exclude_keywords=[\"supplements\", \"LMNT\", \"InsideTracker\", \"Helix\", \"ROKA\", \"Athletic Greens\", \"Thesis\", \"Eight Sleep\"]\n",
    ")\n",
    "\n",
    "agents = {}\n",
    "podcats_vector_engines = {}\n",
    "podcats_summary_engines = {}\n",
    "\n",
    "for podcast in podcast_titles:\n",
    "    retriever = VectorIndexRetriever(\n",
    "        index = podcast_vector_index[podcast.key],\n",
    "        similarity_top_k=3,\n",
    "    )\n",
    "\n",
    "    podcats_vector_engines[podcast.key] = RetrieverQueryEngine(\n",
    "        retriever = retriever,\n",
    "        node_postprocessors=[node_processor]\n",
    "    )\n",
    "\n",
    "    podcats_summary_engines[podcast.key] = podcast_summary_index[podcast.key].as_query_engine()\n",
    "\n",
    "    query_engine_tools = []\n",
    "    new_tool = QueryEngineTool(\n",
    "        query_engine=podcats_vector_engines[podcast.key],\n",
    "        metadata = ToolMetadata(\n",
    "            name=f\"{podcast.key}_vector_tool\",\n",
    "            description=f\"Useful for retrieving specific context from a podcast {podcast.name}. \"\n",
    "            f\"Use when you need information related to {podcast.about}.\",\n",
    "        )\n",
    "\n",
    "    )\n",
    "    query_engine_tools.append(new_tool)\n",
    "\n",
    "    new_tool = QueryEngineTool(\n",
    "        query_engine=podcats_summary_engines[podcast.key],\n",
    "        metadata = ToolMetadata(\n",
    "            name=f\"{podcast.key}_summary_tool\",\n",
    "            description=f\"Useful for summary of the podcast '{podcast.name}'\"\n",
    "            f\"Use when you need overview information about how to {podcast.about}. \",\n",
    "        )\n",
    "\n",
    "    )\n",
    "    query_engine_tools.append(new_tool)\n",
    "\n",
    "    from llama_index.agent import OpenAIAgent\n",
    "    from llama_index.llms import OpenAI\n",
    "\n",
    "    agent = OpenAIAgent.from_tools(query_engine_tools, llm=OpenAI(temperature=0, model=\"gpt-3.5-turbo-0613\"), verbose=True)\n",
    "\n",
    "    agents[podcast.key] = agent\n",
    "\n"
   ]
  },
  {
   "cell_type": "code",
   "execution_count": 21,
   "metadata": {},
   "outputs": [
    {
     "data": {
      "text/plain": [
       "{'tools_for_stress': <llama_index.agent.openai_agent.OpenAIAgent at 0x146a932e0>,\n",
       " 'setting_goals': <llama_index.agent.openai_agent.OpenAIAgent at 0x146a8ed90>,\n",
       " 'diet_nutrition': <llama_index.agent.openai_agent.OpenAIAgent at 0x146a8e6a0>}"
      ]
     },
     "execution_count": 21,
     "metadata": {},
     "output_type": "execute_result"
    }
   ],
   "source": [
    "agents"
   ]
  },
  {
   "cell_type": "code",
   "execution_count": 22,
   "metadata": {},
   "outputs": [],
   "source": [
    "from llama_index.schema import IndexNode\n",
    "\n",
    "nodes = []\n",
    "for podcast in podcast_titles:\n",
    "    podcast_summary = (\n",
    "        f\"This content contains podcast transcript: '{podcast.name}'. \"\n",
    "        f\"Use this index if you need to lookup specific information about {podcast.about}.\\n\"\n",
    "    )\n",
    "    node = IndexNode(text = podcast_summary, index_id=podcast.key)\n",
    "    nodes.append(node)"
   ]
  },
  {
   "cell_type": "code",
   "execution_count": null,
   "metadata": {},
   "outputs": [],
   "source": [
    "vector_index = VectorStoreIndex(nodes)\n",
    "vector_retriever = vector_index.as_retriever(similarity_top_k=1)"
   ]
  },
  {
   "cell_type": "code",
   "execution_count": 24,
   "metadata": {},
   "outputs": [],
   "source": [
    "from llama_index.retrievers import RecursiveRetriever\n",
    "from llama_index.query_engine import RetrieverQueryEngine\n",
    "from llama_index.response_synthesizers import get_response_synthesizer\n",
    "\n",
    "recursive_retriever = RecursiveRetriever(\n",
    "    \"vector\",\n",
    "    retriever_dict={\"vector\": vector_retriever},\n",
    "    query_engine_dict=agents,\n",
    "    verbose=True,\n",
    ")\n",
    "\n",
    "response_syntesizer = get_response_synthesizer(\n",
    "    response_mode=\"compact\",\n",
    ")\n",
    "\n",
    "query_engine = RetrieverQueryEngine.from_args(\n",
    "    recursive_retriever,\n",
    "    response_synthesizer=response_syntesizer,\n",
    ")\n"
   ]
  },
  {
   "cell_type": "code",
   "execution_count": 25,
   "metadata": {},
   "outputs": [],
   "source": [
    "openai.log = \"debug\""
   ]
  },
  {
   "cell_type": "code",
   "execution_count": null,
   "metadata": {},
   "outputs": [],
   "source": [
    "response = query_engine.query(\"Give me a summary of the podcast 'Dr Chris Palmer: Diet and Nutrition for Mental health'\")"
   ]
  },
  {
   "cell_type": "code",
   "execution_count": 29,
   "metadata": {},
   "outputs": [
    {
     "data": {
      "text/plain": [
       "Response(response=\"Dr. Chris Palmer, a psychiatrist and professor at Harvard Medical School, has conducted research on the relationship between diet and mental health. He has found that providing comprehensive support and education is crucial for successful dietary interventions. This support can come in various forms, such as health and wellness coaches, dieticians, family education, or even pre-prepared meals. By offering this level of support, Dr. Palmer has achieved high compliance rates in his pilot trial. He emphasizes the importance of making the diet as accessible and manageable as possible to increase adherence. Dr. Palmer's approach has been particularly effective for patients with conditions like schizophrenia and bipolar disorder, as they experience significant symptom relief when they adhere to the prescribed diet.\", source_nodes=[NodeWithScore(node=TextNode(id_='10d1e3cc-cdda-4233-ac9d-cb86ec0a1aea', embedding=None, metadata={}, excluded_embed_metadata_keys=[], excluded_llm_metadata_keys=[], relationships={}, hash='a69067d7d5751ae8f7b61635da8bf3f237297b9caad7b8427388442ad55bcb55', text=\"Query: Give me a summary of the podcast 'Dr Chris Palmer: Diet and Nutrition for Mental health'\\nResponse: Dr. Chris Palmer, a psychiatrist and professor at Harvard Medical School, has conducted extensive research on the relationship between diet and mental health. He has found that providing comprehensive support and education is crucial for successful dietary interventions. This support can come in various forms, such as health and wellness coaches, dieticians, family education, or even pre-prepared meals. By offering this level of support, Dr. Palmer has achieved high compliance rates of over 90% in his pilot trial. He emphasizes the importance of making the diet as accessible and manageable as possible to increase adherence. Dr. Palmer's approach has been particularly effective for patients with conditions like schizophrenia and bipolar disorder, as they experience significant symptom relief when they adhere to the prescribed diet.\", start_char_idx=None, end_char_idx=None, text_template='{metadata_str}\\n\\n{content}', metadata_template='{key}: {value}', metadata_seperator='\\n'), score=0.9305357583916131)], metadata={'10d1e3cc-cdda-4233-ac9d-cb86ec0a1aea': {}})"
      ]
     },
     "execution_count": 29,
     "metadata": {},
     "output_type": "execute_result"
    }
   ],
   "source": [
    "response"
   ]
  }
 ],
 "metadata": {
  "kernelspec": {
   "display_name": "myenv",
   "language": "python",
   "name": "python3"
  },
  "language_info": {
   "codemirror_mode": {
    "name": "ipython",
    "version": 3
   },
   "file_extension": ".py",
   "mimetype": "text/x-python",
   "name": "python",
   "nbconvert_exporter": "python",
   "pygments_lexer": "ipython3",
   "version": "3.9.6"
  },
  "orig_nbformat": 4
 },
 "nbformat": 4,
 "nbformat_minor": 2
}
