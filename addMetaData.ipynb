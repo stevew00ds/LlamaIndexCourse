{
 "cells": [
  {
   "cell_type": "code",
   "execution_count": 2,
   "metadata": {},
   "outputs": [],
   "source": [
    "import logging\n",
    "import sys\n",
    "import os\n",
    "\n",
    "logging.basicConfig(stream=sys.stdout, level=logging.INFO)\n",
    "logging.getLogger().addHandler(logging.StreamHandler(stream=sys.stdout))"
   ]
  },
  {
   "cell_type": "code",
   "execution_count": 3,
   "metadata": {},
   "outputs": [],
   "source": [
    "import os\n",
    "os.environ['NUMEXPR_MAX_THREADS'] = '4'\n",
    "os.environ['NUMEXPR_NUM_THREADS'] = '2'\n",
    "import numexpr as ne"
   ]
  },
  {
   "cell_type": "code",
   "execution_count": null,
   "metadata": {},
   "outputs": [],
   "source": [
    "import os\n",
    "os.environ[\"OPENAI_API_KEY\"] = \"sk-xxx\"\n",
    "import openai\n",
    "openai.api_key = \"sk-xxx\""
   ]
  },
  {
   "cell_type": "code",
   "execution_count": 16,
   "metadata": {},
   "outputs": [],
   "source": [
    "from llama_index import SimpleDirectoryReader\n",
    "andrew_gina_docs = SimpleDirectoryReader(input_files=[\"./assets/AndrewHuberman/sleep/115_Dr_Gina_Poe_Use_Sleep_to_Enhance_Learning_Memory_&_Emotional_State_Huberman_Lab_Podcast.txt\"]).load_data()"
   ]
  },
  {
   "cell_type": "code",
   "execution_count": 17,
   "metadata": {},
   "outputs": [
    {
     "name": "stdout",
     "output_type": "stream",
     "text": [
      "1\n"
     ]
    }
   ],
   "source": [
    "print(len(andrew_gina_docs))"
   ]
  },
  {
   "cell_type": "code",
   "execution_count": 21,
   "metadata": {},
   "outputs": [],
   "source": [
    "from llama_index.node_parser.extractors import (\n",
    "    MetadataExtractor,\n",
    "    QuestionsAnsweredExtractor,\n",
    "    TitleExtractor\n",
    ")\n",
    "from llama_index.text_splitter import TokenTextSplitter\n",
    "from llama_index.node_parser import SimpleNodeParser\n",
    "\n",
    "text_splitter = TokenTextSplitter(separator=\" \", chunk_size=512, chunk_overlap=20)\n",
    "\n",
    "metadata_extractor = MetadataExtractor(\n",
    "    extractors=[\n",
    "        TitleExtractor(nodes=5),\n",
    "        QuestionsAnsweredExtractor(questions=3),\n",
    "    ],\n",
    ")\n",
    "\n",
    "node_parser = SimpleNodeParser(\n",
    "    text_splitter = text_splitter,\n",
    "    metadata_extractor=metadata_extractor\n",
    ")"
   ]
  },
  {
   "cell_type": "code",
   "execution_count": 23,
   "metadata": {},
   "outputs": [
    {
     "name": "stderr",
     "output_type": "stream",
     "text": [
      "Extracting questions: 100%|██████████| 57/57 [03:12<00:00,  3.38s/it]\n"
     ]
    }
   ],
   "source": [
    "andrew_gina_nodes = node_parser.get_nodes_from_documents(andrew_gina_docs)"
   ]
  },
  {
   "cell_type": "code",
   "execution_count": 24,
   "metadata": {},
   "outputs": [
    {
     "name": "stdout",
     "output_type": "stream",
     "text": [
      "57\n"
     ]
    }
   ],
   "source": [
    "print(len(andrew_gina_nodes))"
   ]
  },
  {
   "cell_type": "code",
   "execution_count": 25,
   "metadata": {},
   "outputs": [
    {
     "data": {
      "text/plain": [
       "{'document_title': 'The Comprehensive Guide to Sleep: Optimizing Health, Performance, and Well-being',\n",
       " 'questions_this_excerpt_can_answer': '1. How can sleep be used to optimize learning and forgetting?\\n2. What critical information about neuroscience, physiology, and hormone systems can Dr. Gina Poe share that strongly inform mental health, physical health, and performance?\\n3. What actionable steps can be taken to improve mental health, physical health, and performance through sleep optimization?'}"
      ]
     },
     "execution_count": 25,
     "metadata": {},
     "output_type": "execute_result"
    }
   ],
   "source": [
    "andrew_gina_nodes[1].metadata"
   ]
  },
  {
   "cell_type": "code",
   "execution_count": 26,
   "metadata": {},
   "outputs": [
    {
     "name": "stdout",
     "output_type": "stream",
     "text": [
      "{'document_title': 'The Comprehensive Guide to Sleep: Optimizing Health, Performance, and Well-being', 'questions_this_excerpt_can_answer': '1. How do antidepressants affect REM sleep and why are they counter-indicated for individuals with PTSD?\\n2. What is the role of serotonin in REM sleep and how does its regulation impact cognition and mental health?\\n3. How do different types of antidepressants, such as noradrenergic and serotonergic reuptake inhibitors, affect sleep patterns and emotional processing?'}\n",
      "{'document_title': 'The Comprehensive Guide to Sleep: Optimizing Health, Performance, and Well-being', 'questions_this_excerpt_can_answer': \"1. How does the locus coeruleus in the brain contribute to ignoring pain during stressful situations?\\n2. What role does the dorsal striatum play in procedural learning and motor learning when the hippocampus is compromised?\\n3. Can manipulating the body's adrenal glands have an impact on brain function and overall well-being?\"}\n",
      "{'document_title': 'The Comprehensive Guide to Sleep: Optimizing Health, Performance, and Well-being', 'questions_this_excerpt_can_answer': '1. What is the scientific version of intentional relaxation called and how is it studied in the laboratory?\\n2. What method do certain communities of Special Operations in the US military use to help them relax and transition back into sleep?\\n3. How do the various relaxation techniques described in the context converge on a common theme and potentially counteract noradrenaline release?'}\n",
      "{'document_title': 'The Comprehensive Guide to Sleep: Optimizing Health, Performance, and Well-being', 'questions_this_excerpt_can_answer': '1. How can having a child help night owls adjust their sleep schedule?\\n2. What is a common sleep issue found in bulldogs and why should people avoid getting this breed?\\n3. What are some examples of predatory animals that can sleep for long periods of time?'}\n",
      "{'document_title': 'The Comprehensive Guide to Sleep: Optimizing Health, Performance, and Well-being', 'questions_this_excerpt_can_answer': '1. How does implementing a regular bedtime routine impact sleep scores, daytime vigor, and focus?\\n2. What are the benefits of using momentous supplements for enhancing sleep quality, focus, and hormone support?\\n3. Why do major institutions like Stanford and UCLA pay their employees more and why is it important for them to have a standard of living?'}\n"
     ]
    }
   ],
   "source": [
    "import random\n",
    "sample_gina_nodes = random.sample(andrew_gina_nodes, 5)\n",
    "for node in sample_gina_nodes:\n",
    "    print(node.metadata)"
   ]
  },
  {
   "cell_type": "code",
   "execution_count": 27,
   "metadata": {},
   "outputs": [
    {
     "name": "stderr",
     "output_type": "stream",
     "text": [
      "Extracting questions: 100%|██████████| 57/57 [03:16<00:00,  3.44s/it]\n"
     ]
    }
   ],
   "source": [
    "from llama_index import ServiceContext, VectorStoreIndex\n",
    "\n",
    "service_context = ServiceContext.from_defaults(node_parser=node_parser)\n",
    "index = VectorStoreIndex.from_documents(andrew_gina_docs, service_context=service_context)"
   ]
  },
  {
   "cell_type": "code",
   "execution_count": 31,
   "metadata": {},
   "outputs": [],
   "source": [
    "response = index.as_query_engine().query(\"How does consistent bedtime contribute to good neurological health as we age?\")"
   ]
  },
  {
   "cell_type": "code",
   "execution_count": 32,
   "metadata": {},
   "outputs": [
    {
     "name": "stdout",
     "output_type": "stream",
     "text": [
      "Final Response: Consistent bedtime contributes to good neurological\n",
      "health as we age by serving as one of the best markers of good\n",
      "neurological health. It helps maintain the proper functioning of our\n",
      "brains as we get older.\n",
      "______________________________________________________________________\n",
      "Source Node 1/2\n",
      "Node ID: 4ce03611-578e-482d-9714-c945d76be165\n",
      "Similarity: 0.9152142163390966\n",
      "Text: are probably realizing, also highly actionable. So what this\n",
      "means is that we should have fairly consistent bedtimes in addition to\n",
      "fairly consistent, wait times. Is that right exactly and in fact one\n",
      "of the Best markers of good neurological health when we get older, is\n",
      "consistent, bedtimes, wow, okay, um. I don't want to backtrack, but I\n",
      "did wr...\n",
      "______________________________________________________________________\n",
      "Source Node 2/2\n",
      "Node ID: 2a6027eb-fef3-4db3-b58b-b803f4e76dd7\n",
      "Similarity: 0.8429651446701504\n",
      "Text: Welcome to the Huberman Lab podcast, where we discuss science\n",
      "and science-based tools for everyday life, I'm Andrew Huberman and I'm\n",
      "a professor of neurobiology and Ophthalmology at Stanford school of\n",
      "medicine. Today my guest is Dr Gina Poe, Dr Gina Poe is a professor in\n",
      "the department of Integrative biology and Physiology at the University\n",
      "of C...\n"
     ]
    }
   ],
   "source": [
    "from llama_index.response.pprint_utils import pprint_response\n",
    "pprint_response(response, show_source=True)"
   ]
  },
  {
   "cell_type": "code",
   "execution_count": 36,
   "metadata": {},
   "outputs": [
    {
     "name": "stdout",
     "output_type": "stream",
     "text": [
      "[NodeWithScore(node=TextNode(id_='4ce03611-578e-482d-9714-c945d76be165', embedding=None, metadata={'document_title': 'The Comprehensive Guide to Sleep: Understanding its Importance for Health, Well-being, Mental Health, Physical Health, Performance, and Finding the Perfect Mattress', 'questions_this_excerpt_can_answer': '1. How does consistent bedtime contribute to good neurological health as we age?\\n2. What are the potential underlying issues for individuals who sleep nine hours or more?\\n3. How does sleep aid in brain and body development, particularly in babies?'}, excluded_embed_metadata_keys=[], excluded_llm_metadata_keys=['questions_this_excerpt_can_answer'], relationships={<NodeRelationship.SOURCE: '1'>: RelatedNodeInfo(node_id='dfed5f6f-99cb-4b09-b5af-ff4d4f2a0b09', node_type=None, metadata={}, hash='fbcacda02d943cacab9cdd5d314b1865ca59a36997b288e52d3c59fd535a314b'), <NodeRelationship.PREVIOUS: '2'>: RelatedNodeInfo(node_id='52e4c512-32b0-4f77-9958-21abf9b18727', node_type=None, metadata={}, hash='f54c3f5d743fbbcaf4263e410b76a0ebfeb5f6d4da62b353737582a3c35135e5'), <NodeRelationship.NEXT: '3'>: RelatedNodeInfo(node_id='f983d3ad-cc17-44e0-ad91-68baed2781bc', node_type=None, metadata={}, hash='67d5ff50e031e966ae3b1a16b06fa37a2e24da700d49508748651c6b3d817ed7')}, hash='25d6ea11757f47bf9da769aeb5c3a25e1c0040aa58c0977f5cd35ba8fc71cfce', text=\"are probably realizing, also highly actionable. So what this means is that we should have fairly consistent bedtimes in addition to fairly consistent, wait times. Is that right exactly and in fact one of the Best markers of good neurological health when we get older, is consistent, bedtimes, wow, okay, um. I don't want to backtrack, but I did write down something that I think is important for me to resolve or for you to resolve. So I'm going to ask this um people that sleep, nine hours or more perhaps that reflecting an issue. Some underlying issue, perhaps is being a teenager or an adolescent and undergoing a stage of of development where there's a lot of bodily and brain growth. In exception to that, because, yes, I don't recall sleeping a ton when I was a teenager, I had a ton of energy, but I know a few teenagers and they sleep a lot yeah like they'll, just sleep and sleep and sleep and sleep: should we let them Sleep and sleep and sleep okay, I can sleep okay, so that’s the one exception. What about just like babies? Okay, when you're developing something in your brain or the rest of your body. You really need sleep to help. Organize that I mean sleep is doing really hard work in organizing our brains and and making it develop right, and if we deprive ourselves of sleep we will actually also just I like, like. I said we have a daily clock. We also have a developmental clock and we can miss a developmental window if we don't let ourselves sleep extra like we need to what other things inhibit: growth, hormone release or other components of this first stage of sleep. In other words, if I go to sleep religiously, every night at 10 pm are there things that I perhaps do in the preceding hours or the preceding day like ingest, caffeine or alcohol, that can make that first stage of sleep less effective. Even if I'm going to sleep at the same time, alcohol definitely will do that because alcohol is a REM, sleep suppressant and it even suppresses some of that stage. Two transition to REM with those sleep spindles and those sleep spindles. We didn't talk about their function yet, but they're really important for moving memories to our cortex. It’s a unique time when our hippocampus, the sort of like the ram of our brains, writes it to a hard disk and which is the cortex and there it’s a unique time when\", start_char_idx=None, end_char_idx=None, text_template='[Excerpt from document]\\n{metadata_str}\\nExcerpt:\\n-----\\n{content}\\n-----\\n', metadata_template='{key}: {value}', metadata_seperator='\\n'), score=0.9152142163390966), NodeWithScore(node=TextNode(id_='2a6027eb-fef3-4db3-b58b-b803f4e76dd7', embedding=None, metadata={'document_title': 'The Comprehensive Guide to Sleep: Understanding its Importance for Health, Well-being, Mental Health, Physical Health, Performance, and Finding the Perfect Mattress', 'questions_this_excerpt_can_answer': '1. How do specific patterns of brain activity during different phases of sleep impact our ability to learn and remember information?\\n2. How does sleep act as a form of trauma therapy, discarding the emotional tones of memories?\\n3. How does the timing of sleep, specifically going to sleep at the same time each night, impact the release of growth hormone and our overall health and well-being?'}, excluded_embed_metadata_keys=[], excluded_llm_metadata_keys=['questions_this_excerpt_can_answer'], relationships={<NodeRelationship.SOURCE: '1'>: RelatedNodeInfo(node_id='dfed5f6f-99cb-4b09-b5af-ff4d4f2a0b09', node_type=None, metadata={}, hash='fbcacda02d943cacab9cdd5d314b1865ca59a36997b288e52d3c59fd535a314b'), <NodeRelationship.NEXT: '3'>: RelatedNodeInfo(node_id='25989cf3-7d42-4295-95d5-afa51c65b95c', node_type=None, metadata={}, hash='26178eee5488f62b2ab8665e71dc579ccf89320dd9131f4c731958ada075e94f')}, hash='fa253a92581cc5c31b248b8efdd5b156b08283591f0770cd24c2ee39378e0bf1', text=\"Welcome to the Huberman Lab podcast, where we discuss science and science-based tools for everyday life, I'm Andrew Huberman and I'm a professor of neurobiology and Ophthalmology at Stanford school of medicine. Today my guest is Dr Gina Poe, Dr Gina Poe is a professor in the department of Integrative biology and Physiology at the University of California, Los Angeles. Her laboratory and research focuses on the relationship between sleep and learning, in particular how specific patterns of brain activity that are present during specific phases of sleep impact, our ability to learn and remember specific types of information, for instance, procedural information. That is how to perform specific cognitive or physical tasks, as well as encoding of emotional memories and discarding emotional memories. Indeed, her research focuses on how specific phases of sleep can act as its own form of trauma therapy discarding the emotional tones of memories. In addition, her laboratory focuses on how specific phases of sleep impact things like the release of growth, hormone growth, hormone, of course, plays critical roles in metabolism and tissue repair, including brain tissue repair, and therefore has critical roles in vitality and Longevity. Today you will learn many things about the relationship between sleep learning, emotionality and growth hormone, one basic, but very important, takeaway. That you'll learn about today, which was news to me, is that it’s not just the duration and depth of your sleep that matter, but actually getting to sleep at relatively the same time. Each night ensures that you get adequate growth hormone release in the first hours of sleep. In fact, if you require, let's say eight hours of sleep per night, but you go to sleep two hours later than your typical bedtime On Any Given night. You actually miss the window for growth hormone release. That’s right! Getting growth hormone release in sleep, which is absolutely critical to our immediate and long-term health, is not a prerequisite of getting sleep even if we are getting enough sleep as Dr Poe explains their critical brain circuit and endocrine. That is hormone circuits that regulate not just the duration and depth and quality and timing of sleep. But when we place our bout of sleep, that is when we go to sleep each night, plus or minus about a half hour or so strongly dictates whether or not we will experience all the health promoting including mind promoting benefits of sleep. Today’s episode covers that and a lot more in substantial detail. You will learn, for instance, how to use sleep in order to optimize\", start_char_idx=None, end_char_idx=None, text_template='[Excerpt from document]\\n{metadata_str}\\nExcerpt:\\n-----\\n{content}\\n-----\\n', metadata_template='{key}: {value}', metadata_seperator='\\n'), score=0.8429651446701504)]\n"
     ]
    }
   ],
   "source": [
    "print(response.source_nodes)"
   ]
  }
 ],
 "metadata": {
  "kernelspec": {
   "display_name": "myenv",
   "language": "python",
   "name": "python3"
  },
  "language_info": {
   "codemirror_mode": {
    "name": "ipython",
    "version": 3
   },
   "file_extension": ".py",
   "mimetype": "text/x-python",
   "name": "python",
   "nbconvert_exporter": "python",
   "pygments_lexer": "ipython3",
   "version": "3.9.6"
  },
  "orig_nbformat": 4
 },
 "nbformat": 4,
 "nbformat_minor": 2
}
