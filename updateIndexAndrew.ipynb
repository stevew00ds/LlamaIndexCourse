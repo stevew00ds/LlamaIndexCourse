{
 "cells": [
  {
   "cell_type": "markdown",
   "id": "ef09e25d",
   "metadata": {},
   "source": [
    "### Add logging\n"
   ]
  },
  {
   "cell_type": "code",
   "execution_count": 3,
   "id": "4cf4b48c",
   "metadata": {},
   "outputs": [],
   "source": [
    "import logging\n",
    "import sys\n",
    "import os\n",
    "\n",
    "logging.basicConfig(stream=sys.stdout, level=logging.INFO)\n",
    "logging.getLogger().addHandler(logging.StreamHandler(stream=sys.stdout))"
   ]
  },
  {
   "cell_type": "markdown",
   "id": "90f62a82",
   "metadata": {},
   "source": [
    "# Query Andrew Huberman Knowledge"
   ]
  },
  {
   "cell_type": "markdown",
   "id": "3991238e",
   "metadata": {},
   "source": [
    "### Load index from disk"
   ]
  },
  {
   "cell_type": "code",
   "execution_count": 5,
   "id": "beb18d55",
   "metadata": {},
   "outputs": [],
   "source": [
    "import os\n",
    "os.environ['NUMEXPR_MAX_THREADS'] = '4'\n",
    "os.environ['NUMEXPR_NUM_THREADS'] = '2'\n",
    "import numexpr as ne"
   ]
  },
  {
   "cell_type": "code",
   "execution_count": null,
   "id": "1ee04621",
   "metadata": {},
   "outputs": [],
   "source": [
    "import os\n",
    "os.environ[\"OPENAI_API_KEY\"] = \"sk-xxx\"\n",
    "import openai\n",
    "openai.api_key = \"sk-xxx\""
   ]
  },
  {
   "cell_type": "code",
   "execution_count": 6,
   "id": "b4ab1d37",
   "metadata": {},
   "outputs": [
    {
     "name": "stdout",
     "output_type": "stream",
     "text": [
      "INFO:llama_index.indices.loading:Loading all indices.\n",
      "Loading all indices.\n",
      "loading from disk\n"
     ]
    }
   ],
   "source": [
    "from llama_index import VectorStoreIndex, SimpleDirectoryReader, StorageContext, load_index_from_storage\n",
    "\n",
    "try:\n",
    "    storage_context = StorageContext.from_defaults(persist_dir='./storage/cache/andrew/sleep')\n",
    "    index = load_index_from_storage(storage_context)\n",
    "    print('loading from disk')\n",
    "except:\n",
    "    documents = SimpleDirectoryReader('assets/AndrewHuberman/sleep', filename_as_id=True).load_data()\n",
    "    # index = VectorStoreIndex.from_documents(documents)\n",
    "    #index.storage_context.persist(persist_dir='./storage/cache/andrew/sleep/')\n",
    "    #print('persisting to disk')\n",
    "\n"
   ]
  },
  {
   "cell_type": "markdown",
   "id": "2903177f",
   "metadata": {},
   "source": []
  },
  {
   "cell_type": "code",
   "execution_count": 7,
   "id": "9926329f",
   "metadata": {},
   "outputs": [],
   "source": [
    "from llama_index.text_splitter import TokenTextSplitter\n",
    "from llama_index.node_parser import SimpleNodeParser\n",
    "\n",
    "text_splitter = TokenTextSplitter()\n",
    "node_parser = SimpleNodeParser(text_splitter=text_splitter)\n",
    "nodes = node_parser.get_nodes_from_documents(documents)\n"
   ]
  },
  {
   "cell_type": "code",
   "execution_count": null,
   "id": "2f5193e5",
   "metadata": {},
   "outputs": [],
   "source": [
    "print(nodes)"
   ]
  },
  {
   "cell_type": "code",
   "execution_count": 35,
   "id": "6cf192e4",
   "metadata": {},
   "outputs": [],
   "source": [
    "documents = SimpleDirectoryReader('assets/AndrewHuberman/sleep', filename_as_id=True).load_data()"
   ]
  },
  {
   "cell_type": "code",
   "execution_count": 37,
   "id": "9690ad51",
   "metadata": {},
   "outputs": [],
   "source": [
    "index = VectorStoreIndex.from_documents(documents)\n",
    "index.storage_context.persist(persist_dir='./storage/cache/andrew/sleep')"
   ]
  },
  {
   "cell_type": "code",
   "execution_count": 36,
   "id": "4b0b214c",
   "metadata": {},
   "outputs": [
    {
     "name": "stdout",
     "output_type": "stream",
     "text": [
      "[False, False, False, False, False, False]\n",
      "Num of inserted/refreshed documents:  0\n"
     ]
    }
   ],
   "source": [
    "refreshed_docs = index.refresh_ref_docs(documents, update_kwargs={\"delete_kwargs\": {'delete_from_docstore': True}})\n",
    "print(refreshed_docs)\n",
    "print('Num of inserted/refreshed documents: ', sum(refreshed_docs))"
   ]
  }
 ],
 "metadata": {
  "kernelspec": {
   "display_name": "myenv",
   "language": "python",
   "name": "python3"
  },
  "language_info": {
   "codemirror_mode": {
    "name": "ipython",
    "version": 3
   },
   "file_extension": ".py",
   "mimetype": "text/x-python",
   "name": "python",
   "nbconvert_exporter": "python",
   "pygments_lexer": "ipython3",
   "version": "3.9.6"
  }
 },
 "nbformat": 4,
 "nbformat_minor": 5
}
